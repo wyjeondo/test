{
 "cells": [
  {
   "cell_type": "code",
   "execution_count": 1,
   "id": "93e74a52-97f9-47fe-8fc9-12bccb04c073",
   "metadata": {},
   "outputs": [],
   "source": [
    "import pandas as pd\n",
    "import utils_numeric as un\n",
    "hotel = pd.read_csv('./hotel_bookings.csv')\n",
    "hotel = hotel.drop(columns=['country','agent','company'])\n",
    "col_out = 'is_canceled'"
   ]
  },
  {
   "cell_type": "code",
   "execution_count": 2,
   "id": "ebf8d312-3f81-41b7-b96e-8b36fb0a768c",
   "metadata": {},
   "outputs": [],
   "source": [
    "hmd = un.NumericColsWEncoding(hotel)\n",
    "hotel_nonull = hmd.extract_numeric_cols()\n",
    "hotel_nonull.loc[hotel_nonull[hotel_nonull['children'].isnull()].index, 'children'] = 1.0"
   ]
  },
  {
   "cell_type": "code",
   "execution_count": 5,
   "id": "861dc578-fa56-49f3-ab75-5e0f26fb6a00",
   "metadata": {},
   "outputs": [
    {
     "data": {
      "image/png": "[encoded data removed]",
      "text/plain": [
       "<Figure size 640x480 with 1 Axes>"
      ]
     },
     "metadata": {},
     "output_type": "display_data"
    },
    {
     "name": "stdout",
     "output_type": "stream",
     "text": [
      "0 비율: 62.96%\n",
      "1 비율: 37.04%\n"
     ]
    }
   ],
   "source": [
    "# 데이터 불균형을 시각화하여 식별하고 불균형 판단근거를 작성\n",
    "import seaborn as sns\n",
    "import matplotlib.pyplot as plt\n",
    "from matplotlib import font_manager, rc\n",
    "sns.countplot(x=col_out, data = hotel_nonull)\n",
    "plt.show()\n",
    "\n",
    "ratio0 = round(len(hotel_nonull[hotel_nonull[col_out]==0])/len(hotel_nonull)*100, 2)\n",
    "ratio1 = round(len(hotel_nonull[hotel_nonull[col_out]==1])/len(hotel_nonull)*100, 2)\n",
    "print(f'0 비율: {ratio0}%')\n",
    "print(f'1 비율: {ratio1}%')"
   ]
  },
  {
   "cell_type": "markdown",
   "id": "a718aaef-34d3-402a-85af-f294c3ca9d3a",
   "metadata": {},
   "source": [
    "#### 클래스불균형 해소법"
   ]
  },
  {
   "cell_type": "code",
   "execution_count": 7,
   "id": "5fb87809-8299-4638-9be8-04fc9e855e76",
   "metadata": {},
   "outputs": [
    {
     "name": "stdout",
     "output_type": "stream",
     "text": [
      "time: 1.1703710556030273\n"
     ]
    }
   ],
   "source": [
    "from imblearn.over_sampling import RandomOverSampler, SMOTE\n",
    "import time\n",
    "start = time.time()\n",
    "x = hotel_nonull[hotel_nonull.columns.difference([col_out])]\n",
    "y = hotel_nonull[col_out]\n",
    "#SMOTE\n",
    "sm = SMOTE(random_state=42)\n",
    "x_sm, y_sm = sm.fit_resample(x, y)\n",
    "print(f'time: {time.time()-start}')"
   ]
  },
  {
   "cell_type": "markdown",
   "id": "5b2aebc7-85d4-4008-b2e7-82c121b681ad",
   "metadata": {},
   "source": [
    "#### 정확도와 속도측면"
   ]
  },
  {
   "cell_type": "code",
   "execution_count": 10,
   "id": "bbfba785-f0e1-4630-a1ab-77624cc30a96",
   "metadata": {},
   "outputs": [
    {
     "name": "stdout",
     "output_type": "stream",
     "text": [
      "train accuracy : 0.9377669821593099\n",
      "              precision    recall  f1-score   support\n",
      "\n",
      "           0       0.84      0.93      0.88     15033\n",
      "           1       0.85      0.70      0.77      8845\n",
      "\n",
      "    accuracy                           0.84     23878\n",
      "   macro avg       0.85      0.81      0.83     23878\n",
      "weighted avg       0.84      0.84      0.84     23878\n",
      "\n",
      "time :  9.127625942230225\n"
     ]
    }
   ],
   "source": [
    "from sklearn.model_selection import train_test_split\n",
    "from sklearn.ensemble import RandomForestClassifier\n",
    "from sklearn.metrics import classification_report\n",
    "start = time.time()\n",
    "x_train, x_test, y_train, y_test = train_test_split(x, y, test_size=0.2, stratify=y, random_state = 100)\n",
    "\n",
    "clf = RandomForestClassifier(n_estimators = 100, min_samples_split=10)\n",
    "clf.fit(x_train, y_train)\n",
    "print(f'train accuracy : {clf.score(x_train, y_train)}')\n",
    "pred = clf.predict(x_test)\n",
    "print(classification_report(y_test,pred))\n",
    "print('time : ', time.time()-start)"
   ]
  },
  {
   "cell_type": "code",
   "execution_count": null,
   "id": "c1329d9f-1363-4646-90bd-328d119ab9c1",
   "metadata": {},
   "outputs": [],
   "source": []
  },
  {
   "cell_type": "code",
   "execution_count": null,
   "id": "5b0af4ad-6820-4fb5-97e5-a9e42d05af68",
   "metadata": {},
   "outputs": [],
   "source": []
  },
  {
   "cell_type": "code",
   "execution_count": null,
   "id": "0d8af588-680a-4a62-a9e9-e1c820d4f4ed",
   "metadata": {},
   "outputs": [],
   "source": []
  },
  {
   "cell_type": "code",
   "execution_count": null,
   "id": "4256e3e3-5ffe-4299-95c4-9eee82ea357b",
   "metadata": {},
   "outputs": [],
   "source": []
  }
 ],
 "metadata": {
  "kernelspec": {
   "display_name": "Python 3 (ipykernel)",
   "language": "python",
   "name": "python3"
  },
  "language_info": {
   "codemirror_mode": {
    "name": "ipython",
    "version": 3
   },
   "file_extension": ".py",
   "mimetype": "text/x-python",
   "name": "python",
   "nbconvert_exporter": "python",
   "pygments_lexer": "ipython3",
   "version": "3.11.8"
  }
 },
 "nbformat": 4,
 "nbformat_minor": 5
}
