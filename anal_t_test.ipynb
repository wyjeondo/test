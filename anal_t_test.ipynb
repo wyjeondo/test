{
 "cells": [
  {
   "cell_type": "code",
   "execution_count": null,
   "id": "4825851c-d73c-4439-8eb9-eeab7a88170d",
   "metadata": {},
   "outputs": [],
   "source": [
    "# 1. 일표본\n",
    "'''\n",
    "#귀무가설 : 모평균의 값은 **이다.\n",
    "#대립가설 : 모평균의 값은 **이 아니다\n",
    "'''\n",
    "import pandas as pd\n",
    "import scipy.stats as stats\n",
    "from scipy.stats import shapiro\n",
    "f_path = './catsM.csv'\n",
    "cats = pd.read_csv(f_path)\n",
    "mu = 2.6 # 측정된 평균\n",
    "print('shapiro 정규성 : ', shapiro(cats['Bwt']))\n",
    "val, p = stats.wilcoxon(cats.Bwt - mu, alternative = 'two-sided')\n",
    "if p > 0.05:\n",
    "    print('귀무가설 기각, 대립가설 채택')\n",
    "else:\n",
    "    print('귀무가설 채택')"
   ]
  },
  {
   "cell_type": "code",
   "execution_count": 8,
   "id": "7a945c9c-108d-4b72-af9a-08b42bf88f05",
   "metadata": {},
   "outputs": [
    {
     "data": {
      "text/plain": [
       "TtestResult(statistic=4.743416490252569, pvalue=0.0005269356285082764, df=9)"
      ]
     },
     "execution_count": 8,
     "metadata": {},
     "output_type": "execute_result"
    }
   ],
   "source": [
    "# 2. 대응표본\n",
    "'''\n",
    "단일 모집단에 대해 어떠한 처리를 가했을 때, 처리 전후에 따른 평균 차이를 비교\n",
    "#귀무가설 : 수면제 복용 전과 후의 수면시간 차이는 없다\n",
    "#대립가설 : 수면제 복용 전과 후의 수면시간 차이는 있다\n",
    "'''\n",
    "import pandas as pd\n",
    "import scipy.stats as stats\n",
    "from scipy.stats import shapiro\n",
    "data = {'before' : [7,3,4,5,2,1,6,6,5,4],\n",
    "        'after' : [8,4,5,6,2,3,6,8,6,5]}\n",
    "data = pd.DataFrame(data)\n",
    "stats.ttest_rel(data['after'], data['before'], alternative='greater')"
   ]
  },
  {
   "cell_type": "code",
   "execution_count": null,
   "id": "26fbff85-aa85-4f21-9c82-d3403e191375",
   "metadata": {},
   "outputs": [],
   "source": [
    "# 3. 독립표본\n",
    "'''\n",
    "두개의 모집단의 평균을 비교 \n",
    "# 가정 : 등분산, 정규성을 만족해야 함\n",
    "- 1차검정 (정규성 검정) \n",
    "- 2차검정 (등분산 검정)\n",
    "#귀무가설 : 두 모평균 사이의 차이는 없다.\n",
    "#대립가설 : 두 모평균 사이의 차이는 있다.\n",
    "'''\n",
    "import pandas as pd\n",
    "import scipy.stats as stats\n",
    "from scipy.stats import shapiro\n",
    "f_path = './catsM.csv'\n",
    "cats = pd.read_csv(f_path)\n",
    "x1 = cats.loc[cats.Sex=='F', 'Bwt']\n",
    "x2 = cats.loc[cats.Sex=='M', 'Bwt']\n",
    "\n",
    "val_sha, p_sha = shapiro(cats['Bwt'])\n",
    "if p < 0.05:\n",
    "    print('정규성이 아니다')\n",
    "    print('Wilcoxon 테스트를 진행합니다.')\n",
    "    t_test = stats.Wilcoxon(x1, x2, alternative='greater')\n",
    "    print('결과 : ', t_test)\n",
    "else:\n",
    "    print('등분산 검정을 진행합니다.')\n",
    "\n",
    "val_lev, p_leve = stats.levene(x1, x2)\n",
    "if p < 0.05:\n",
    "    print('등분산이 아니다')\n",
    "    print('t-test를 진행합니다.')\n",
    "    t_test = stats.ttest_ind(x1, x2, equal_var = False)\n",
    "    print('결과 : ', t_test)\n",
    "else:\n",
    "    print('t-test를 진행합니다.')\n",
    "    t_test = stats.ttest_ind(x1, x2, equal_var = True)\n",
    "    print('결과 : ', t_test)   \n",
    "    print('귀무가설 채택')"
   ]
  },
  {
   "cell_type": "code",
   "execution_count": null,
   "id": "4aa1f371-a41e-434c-8f01-767768cc46c5",
   "metadata": {},
   "outputs": [],
   "source": []
  },
  {
   "cell_type": "code",
   "execution_count": null,
   "id": "dd6a472b-10f4-4e32-ae3a-05e69361d558",
   "metadata": {},
   "outputs": [],
   "source": []
  }
 ],
 "metadata": {
  "kernelspec": {
   "display_name": "Python 3 (ipykernel)",
   "language": "python",
   "name": "python3"
  },
  "language_info": {
   "codemirror_mode": {
    "name": "ipython",
    "version": 3
   },
   "file_extension": ".py",
   "mimetype": "text/x-python",
   "name": "python",
   "nbconvert_exporter": "python",
   "pygments_lexer": "ipython3",
   "version": "3.11.8"
  }
 },
 "nbformat": 4,
 "nbformat_minor": 5
}
