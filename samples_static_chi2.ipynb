{
 "cells": [
  {
   "cell_type": "markdown",
   "id": "67626d4e-dc46-4456-9c2e-b4091114566e",
   "metadata": {},
   "source": [
    "## 1. 자치구별 object에 대한 투표결과로 자치구별 지지율일 같은지 다른지 확인\n",
    "#### 귀무가설 : 자치구별 지지율은 같다 / 대립가설 : 자치구별 지지율은 다르다"
   ]
  },
  {
   "cell_type": "code",
   "execution_count": 1,
   "id": "ccff9644-5a92-4932-a324-ed57e116661f",
   "metadata": {},
   "outputs": [],
   "source": [
    "import pandas as pd\n",
    "import numpy as np\n",
    "data = pd.DataFrame({\"vote\":[\"찬성\",\"반대\"], \"a\":[176,124], \"b\":[193,107], \"c\":[159,141]})\n",
    "data.set_index(\"vote\", inplace=True)"
   ]
  },
  {
   "cell_type": "code",
   "execution_count": 4,
   "id": "83fd4f8e-ba6a-4ba8-9ecc-0838623c09cb",
   "metadata": {},
   "outputs": [
    {
     "name": "stdout",
     "output_type": "stream",
     "text": [
      "statistic:  7.945381231671554\n",
      "p value:  0.01882272023214683\n",
      "df:  2\n",
      "expect : \n",
      " [[176. 176. 176.]\n",
      " [124. 124. 124.]]\n",
      "H1 채택, 다르다\n"
     ]
    }
   ],
   "source": [
    "# 카이제곱 검정을 통한 독립성 검정 수행\n",
    "from scipy.stats import chi2_contingency\n",
    "chi, p, df, expect = chi2_contingency(data)\n",
    "print('statistic: ', chi)\n",
    "print('p value: ', p)\n",
    "print('df: ', df)\n",
    "print('expect : \\n', expect)\n",
    "\n",
    "if p < 0.05:\n",
    "    print('H1 채택, 다르다')\n",
    "else:\n",
    "    print('H0 채택, 독립이다.')"
   ]
  },
  {
   "cell_type": "code",
   "execution_count": null,
   "id": "5432a4f2-7481-4804-9151-8495ba8b5e2e",
   "metadata": {},
   "outputs": [],
   "source": []
  },
  {
   "cell_type": "markdown",
   "id": "592bbd88-0886-4685-bfbc-0c53e16f81a4",
   "metadata": {},
   "source": [
    "## 2. 공통영역 중 서로 다른 분류항목의 평점조사표 등을 보고 output과 관계있는지 검정"
   ]
  },
  {
   "cell_type": "markdown",
   "id": "b2d050b1-eb31-4066-873f-5319cd62146b",
   "metadata": {},
   "source": [
    "#### 귀무가설 분휴항목과 output 간에는 관련성이 없다. / 대립가설 분류항목과 output 간에는 관련성이 있다\n",
    "#### 카이제곱 검정을 한다. --> 카이제곱 검정은 관찰빈도와 기대빈도가 의미 있게 다른지의 여부를 검정하기 위해서다. 자료가 평점조사표인 빈도로 주어졌기 때문에 카이제곱이 적합하다"
   ]
  },
  {
   "cell_type": "code",
   "execution_count": 3,
   "id": "86b3aa5d-9e71-49b2-814f-1ad0d43da50d",
   "metadata": {},
   "outputs": [
    {
     "data": {
      "text/html": [
       "<div>\n",
       "<style scoped>\n",
       "    .dataframe tbody tr th:only-of-type {\n",
       "        vertical-align: middle;\n",
       "    }\n",
       "\n",
       "    .dataframe tbody tr th {\n",
       "        vertical-align: top;\n",
       "    }\n",
       "\n",
       "    .dataframe thead th {\n",
       "        text-align: right;\n",
       "    }\n",
       "</style>\n",
       "<table border=\"1\" class=\"dataframe\">\n",
       "  <thead>\n",
       "    <tr style=\"text-align: right;\">\n",
       "      <th></th>\n",
       "      <th>society</th>\n",
       "      <th>natuality</th>\n",
       "      <th>engineering</th>\n",
       "    </tr>\n",
       "  </thead>\n",
       "  <tbody>\n",
       "    <tr>\n",
       "      <th>3-4</th>\n",
       "      <td>16</td>\n",
       "      <td>12</td>\n",
       "      <td>18</td>\n",
       "    </tr>\n",
       "    <tr>\n",
       "      <th>2-3</th>\n",
       "      <td>30</td>\n",
       "      <td>20</td>\n",
       "      <td>13</td>\n",
       "    </tr>\n",
       "    <tr>\n",
       "      <th>1-2</th>\n",
       "      <td>12</td>\n",
       "      <td>3</td>\n",
       "      <td>14</td>\n",
       "    </tr>\n",
       "  </tbody>\n",
       "</table>\n",
       "</div>"
      ],
      "text/plain": [
       "     society  natuality  engineering\n",
       "3-4       16         12           18\n",
       "2-3       30         20           13\n",
       "1-2       12          3           14"
      ]
     },
     "execution_count": 3,
     "metadata": {},
     "output_type": "execute_result"
    }
   ],
   "source": [
    "import pandas as pd\n",
    "society = [16,30,12]\n",
    "natuality = [12,20,3]\n",
    "engineering = [18,13,14]\n",
    "table = pd.DataFrame({'society':society, 'natuality':natuality, 'engineering':engineering}, index=['3-4','2-3','1-2'])\n",
    "table"
   ]
  },
  {
   "cell_type": "code",
   "execution_count": 6,
   "id": "1b6a02f9-7753-4c16-9ed4-832e62afd682",
   "metadata": {},
   "outputs": [
    {
     "data": {
      "text/plain": [
       "Chi2ContingencyResult(statistic=10.199441509990177, pvalue=0.03719883770303157, dof=4, expected_freq=array([[19.33333333, 11.66666667, 15.        ],\n",
       "       [26.47826087, 15.97826087, 20.54347826],\n",
       "       [12.1884058 ,  7.35507246,  9.45652174]]))"
      ]
     },
     "execution_count": 6,
     "metadata": {},
     "output_type": "execute_result"
    }
   ],
   "source": [
    "# 독립성 검정을 위한 카이제곱 검정을 수행한다.\n",
    "from scipy import stats\n",
    "stats.chi2_contingency(observed=table)"
   ]
  },
  {
   "cell_type": "code",
   "execution_count": 8,
   "id": "f378b8fd-2728-4483-b97f-78d989d8340a",
   "metadata": {},
   "outputs": [
    {
     "name": "stdout",
     "output_type": "stream",
     "text": [
      "각 분류항목과 기대항목 간에는 관련성이 있다!!\n"
     ]
    }
   ],
   "source": [
    "result = stats.chi2_contingency(observed=table)\n",
    "p_value = result[1]\n",
    "if p_value > 0.5 :\n",
    "    print('각 분류항목과 기대항목(output) 간에는 관련성이 없다!')\n",
    "else:\n",
    "    print('각 분류항목과 기대항목 간에는 관련성이 있다!!')"
   ]
  },
  {
   "cell_type": "code",
   "execution_count": null,
   "id": "06ebec16-ef71-4579-9979-bb30a0ad2a80",
   "metadata": {},
   "outputs": [],
   "source": []
  },
  {
   "cell_type": "code",
   "execution_count": null,
   "id": "fd69e87e-a150-4cea-a5fb-da6bdc7298bc",
   "metadata": {},
   "outputs": [],
   "source": []
  }
 ],
 "metadata": {
  "kernelspec": {
   "display_name": "Python 3 (ipykernel)",
   "language": "python",
   "name": "python3"
  },
  "language_info": {
   "codemirror_mode": {
    "name": "ipython",
    "version": 3
   },
   "file_extension": ".py",
   "mimetype": "text/x-python",
   "name": "python",
   "nbconvert_exporter": "python",
   "pygments_lexer": "ipython3",
   "version": "3.11.8"
  }
 },
 "nbformat": 4,
 "nbformat_minor": 5
}
