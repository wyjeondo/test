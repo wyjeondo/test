{
 "cells": [
  {
   "cell_type": "code",
   "execution_count": null,
   "id": "d944bb57-a0b7-402c-91c4-ace37400aabe",
   "metadata": {},
   "outputs": [],
   "source": [
    "'''\n",
    "분산분석은 두개 이상의 다수 집단 간 평균을 피교하는 통계분석 방법으로\n",
    "종속변수는 연속형, 독립변수는 범주형 변수이다. \n",
    "'''"
   ]
  },
  {
   "cell_type": "markdown",
   "id": "8fbec2c1-5b8e-4691-a65b-ca785a2fd82c",
   "metadata": {},
   "source": [
    "### 1. 일원배치 분산분석(One-way ANOVA)\n",
    "### type 1 : 하나의 연속형 특정컬럼과 하나의 범주형 특정컬럼을 분류하는 경우 "
   ]
  },
  {
   "cell_type": "code",
   "execution_count": null,
   "id": "7b59863f-7900-4b8f-99e2-3ac7effa894b",
   "metadata": {},
   "outputs": [],
   "source": [
    "import scipy.stats as stats\n",
    "import pandas as pd\n",
    "f_path = \n",
    "data = pd.read_csv(f_path)\n",
    "data.head()"
   ]
  },
  {
   "cell_type": "code",
   "execution_count": null,
   "id": "9c4e0ef5-009e-4139-b539-ec3a95664cbf",
   "metadata": {},
   "outputs": [],
   "source": [
    "col_outcome = # 범부형 종속변수 컬럼명 --> 범주형 값에 따른 독립변수 수치를 확인하는 용도\n",
    "col_obj = # 연속형 독립변수 컬럼명\n",
    "data[col_outcome].unique()"
   ]
  },
  {
   "cell_type": "code",
   "execution_count": null,
   "id": "625f6a0b-0acc-44e6-9f3e-6e68facf1066",
   "metadata": {},
   "outputs": [],
   "source": [
    "data[col_outcome].value_counts()"
   ]
  },
  {
   "cell_type": "code",
   "execution_count": null,
   "id": "b15f72a3-9168-4def-afc8-c4b64fc5b166",
   "metadata": {},
   "outputs": [],
   "source": [
    "target_list = data[col_outcome].unique()\n",
    "x0 = data[data[col_outcome]==target_list[0]][col_obj]\n",
    "x1 = data[data[col_outcome]==target_list[1]][col_obj]\n",
    "x2 = data[data[col_outcome]==target_list[2]][col_obj]"
   ]
  },
  {
   "cell_type": "code",
   "execution_count": null,
   "id": "34e6b76b-0ebe-4a97-8343-b2d92e35a828",
   "metadata": {},
   "outputs": [],
   "source": [
    "import seaborn as sns\n",
    "import matplotlib.pyplot as plt\n",
    "sns.scatterplot(x = col_outcome,\n",
    "                y = col_obj,\n",
    "                hue = col_outcome, #different colors by group\n",
    "                style = col_outcome, #different shapes by group\n",
    "                s = 100, # marker size\n",
    "                data = data)\n",
    "plt.show()"
   ]
  },
  {
   "cell_type": "code",
   "execution_count": null,
   "id": "be16f3a7-95a5-414b-a4b0-df8a2f6a6907",
   "metadata": {},
   "outputs": [],
   "source": [
    "print(stats.shapiro(x0))\n",
    "print(stats.shapiro(x1))\n",
    "print(stats.shapiro(x2))"
   ]
  },
  {
   "cell_type": "code",
   "execution_count": null,
   "id": "1022c279-229c-489c-a5e1-06b3eacc704d",
   "metadata": {},
   "outputs": [],
   "source": [
    "#1차 정규성검정\n",
    "var_sha_x0 = stats.shapiro(x1)\n",
    "var_sha_x1 = stats.shapiro(x1)\n",
    "var_sha_x2 = stats.shapiro(x1)\n",
    "if (var_sha_x0[1]<0.05)|(var_sha_x1[1]<0.05)|(var_sha_x2[1]<0.05):\n",
    "    print('정규성을 따르지 않습니다.')\n",
    "    print('kruskal 검정을 진행합니다.')\n",
    "    anova = stats.kruskal(x0, x1, x2)\n",
    "    if anova[1]>0.05:\n",
    "        print('귀무가설(H0) 채택')\n",
    "    else:\n",
    "        print('대립가설(H1) 채택')\n",
    "else:\n",
    "    print('등분산 검정을 진행합니다.')"
   ]
  },
  {
   "cell_type": "code",
   "execution_count": null,
   "id": "a46db9f6-810f-45c7-a043-e81bb20e1953",
   "metadata": {},
   "outputs": [],
   "source": [
    "#2차 등분산 검정\n",
    "var_levene = stats.levene(x0, x1, x2)\n",
    "if var_levene[1]<0.05:\n",
    "    print('등분산성을 만족하지 못합니다.')\n",
    "    #!pip3 install pingouin\n",
    "    #conda install pingouin\n",
    "    import pingouin as pg\n",
    "    welch = pg.welch_anova(data=data, dv=col_obj, between=col_outcome)\n",
    "    anova = welch.loc[0, \"p-unc\"]\n",
    "    if anova > 0.05:\n",
    "        print('귀무가설(H0) 채택')\n",
    "    else:\n",
    "        print('대립가설(H1) 채택')\n",
    "else:\n",
    "    print('정규성 및 등분산성 모두 만족합니다.')\n",
    "    anova = stats.f_oneway(x1, x2, x3)\n",
    "    if anova[1] > 0.05:\n",
    "        print('귀무가설(H0) 채택')\n",
    "    else:\n",
    "        print('대립가설(H1) 채택')"
   ]
  },
  {
   "cell_type": "code",
   "execution_count": null,
   "id": "5730ae06-d78d-448f-8e8b-ed270b74ceaa",
   "metadata": {},
   "outputs": [],
   "source": [
    "'''\n",
    "사후검정이란, 분산분석의 결과 귀무가설이 기각되어 적어도 한 집단에서 평균의 차이가 있음이 통계적으로 증명,\n",
    "어떤 집단들에 대해서 평균의 차이가 존재하는지 알아보기 위해 실시하는 분석이다. tuekeyhsd 방식을 주로 사용합니다.\n",
    "예를 들면, tueykeyhsd.summary()를 통해서 p-adj 값이 0.05 이하일 경우 차이가 있음을 확인하는 경우다.\n",
    "'''"
   ]
  },
  {
   "cell_type": "code",
   "execution_count": null,
   "id": "ce395092-66cd-4ab9-9de6-78cdb94ffe45",
   "metadata": {},
   "outputs": [],
   "source": [
    "from statsmodels.stats.multicomp import pairwise_tukeyhsd\n",
    "from statsmodels.stats.multicomp import MultiComparison\n",
    "mc = MultiComparison(data=data[col_obj], groups = data[col_outcome])\n",
    "tuekeyhsd = mc.tukeyhsd(alpha=0.05)\n",
    "fig = tuekeyhsd.plot_simultaneous()"
   ]
  },
  {
   "cell_type": "code",
   "execution_count": null,
   "id": "000e897d-02db-462a-8b21-a89f79478139",
   "metadata": {},
   "outputs": [],
   "source": [
    "tuekeyhsd.summary()"
   ]
  },
  {
   "cell_type": "code",
   "execution_count": null,
   "id": "64063cdb-0ebb-45e6-b47b-ee75d4a89579",
   "metadata": {},
   "outputs": [],
   "source": []
  },
  {
   "cell_type": "code",
   "execution_count": null,
   "id": "b405a580-a0ce-4187-aa5e-3b727f41c1a8",
   "metadata": {},
   "outputs": [],
   "source": []
  },
  {
   "cell_type": "code",
   "execution_count": null,
   "id": "0643b8f3-bbfd-4223-8333-b95279d65c57",
   "metadata": {},
   "outputs": [],
   "source": []
  },
  {
   "cell_type": "code",
   "execution_count": null,
   "id": "43c65d02-43b7-4098-8741-c725489c4b68",
   "metadata": {},
   "outputs": [],
   "source": []
  },
  {
   "cell_type": "code",
   "execution_count": null,
   "id": "386ccf37-fae4-4e26-9f25-787c6b2cc1d6",
   "metadata": {},
   "outputs": [],
   "source": []
  },
  {
   "cell_type": "code",
   "execution_count": null,
   "id": "86e0ece7-711c-4814-b077-4d68bfb6e28a",
   "metadata": {},
   "outputs": [],
   "source": []
  },
  {
   "cell_type": "markdown",
   "id": "4ec1e72b-e8a4-4530-9830-46a705b0ca2c",
   "metadata": {},
   "source": [
    "### 2. 일원배치 분산분석(Two-way ANOVA)"
   ]
  },
  {
   "cell_type": "code",
   "execution_count": null,
   "id": "4b81a13f-73d9-4030-81a5-5797baf1269f",
   "metadata": {},
   "outputs": [],
   "source": [
    "'''\n",
    "<가설방법>\n",
    "1 - 교호작용 /  2,3 - 주효과 검정\n",
    "귀무가설1(H0) : a와b변수의 상호작용 효과(교호작용, interaction)가 없다.\n",
    "귀무가설2(H0) : a변수에 따른 종속변수의 값에는 차이가 없다.\n",
    "귀무가설3(H0) : b변수에 따른 종속변수의 값에는 차이가 없다.\n",
    "대립가설1(H1) : a와b변수의 상호작용 효과(교호작용, interaction)가 있다.\n",
    "대립가설2(H1) : a변수에 따른 종속변수의 값에는 차이가 있다.\n",
    "대립가설3(H1) : b변수에 따른 종속변수의 값에는 차이가 있다.\n",
    "\n",
    "Python으로 양방향 ANOVA를 수행하는 방법\n",
    "formula = y~C(x1)+C(x2)+C(x1):C(x2)\n",
    "model = ols(formula, data).fit()\n",
    "aov_table = anova_lm(model, typ=2)\n",
    "'''"
   ]
  },
  {
   "cell_type": "code",
   "execution_count": null,
   "id": "358439dc-345f-4b83-a2df-428eac6c0e91",
   "metadata": {},
   "outputs": [],
   "source": [
    "# 사례1\n",
    "import pandas as pd\n",
    "import numpy as pd\n",
    "f_path = \n",
    "data = pd.read_csv(f_path)\n",
    "col_a = \n",
    "col_b = \n",
    "col_y = \n",
    "data = data[[cal_y, col_a, col_b]]\n",
    "# 필요시 아래코드 적용\n",
    "# data = data[(data[col_a]=='')|(data[col_a]=='')].reset_index(drop=True)\n",
    "\n",
    "# 독립변수와 종속변수를 series로 변경\n",
    "y_value = data[col_y]\n",
    "a_value = data[col_a]\n",
    "b_value = data[col_b]\n",
    "\n",
    "#분산분석 수행\n",
    "from statsmodels.formula.api import ols\n",
    "from statsmodels.stats.anova import anova_lm\n",
    "formula = f'{col_y} ~C({col_a})*C({col_b})'\n",
    "model = ols(formula, data).fit()\n",
    "tables =  anova_lm(model, typ=2)\n",
    "'''\n",
    "index별로 PR(>F)열 p-value값을 보고 귀무가설 기각/채택 여부를 판단, 0.05 유의수준 이하일 경우 상호작용효과 있고, \n",
    "차이가 있음을 의미한다.\n",
    "'''"
   ]
  },
  {
   "cell_type": "code",
   "execution_count": null,
   "id": "90966f13-bd51-4364-8df8-f284f4dd132f",
   "metadata": {},
   "outputs": [],
   "source": [
    "#사례2"
   ]
  },
  {
   "cell_type": "code",
   "execution_count": null,
   "id": "c4c236bc-6f4b-49c5-8156-52a8434e9c81",
   "metadata": {},
   "outputs": [],
   "source": [
    "import pandas as pd\n",
    "f_path = \n",
    "data = pd.read_csv(f_path)\n",
    "data.head()"
   ]
  },
  {
   "cell_type": "code",
   "execution_count": null,
   "id": "fc9f266f-69f0-49ca-979e-9b467633275e",
   "metadata": {},
   "outputs": [],
   "source": [
    "col_a = \n",
    "col_b =\n",
    "col_y =\n",
    "data = data[[col_y, col_a, col_b]]\n",
    "data.info() # datatype, null info etc..."
   ]
  },
  {
   "cell_type": "code",
   "execution_count": null,
   "id": "45e83f69-ba3c-42ef-ae37-8d062bf39b29",
   "metadata": {},
   "outputs": [],
   "source": [
    "# 분산분석 수행\n",
    "#분산분석 수행\n",
    "from statsmodels.formula.api import ols\n",
    "from statsmodels.stats.anova import anova_lm\n",
    "formula = f'{col_y} ~ C({col_a})+C({col_b})+C({col_a}):C({col_b})'\n",
    "model = ols(formula, data).fit()\n",
    "tables =  anova_lm(model, typ=2)"
   ]
  },
  {
   "cell_type": "code",
   "execution_count": null,
   "id": "b31607d0-7e1a-470a-bfdc-2553094e8b0c",
   "metadata": {},
   "outputs": [],
   "source": []
  },
  {
   "cell_type": "code",
   "execution_count": null,
   "id": "c4b4ed73-3efa-46fa-95b9-3d7c1462b458",
   "metadata": {},
   "outputs": [],
   "source": []
  },
  {
   "cell_type": "code",
   "execution_count": null,
   "id": "48cd95fc-8af2-42f6-a979-599f5cac8233",
   "metadata": {},
   "outputs": [],
   "source": []
  },
  {
   "cell_type": "code",
   "execution_count": null,
   "id": "5ebe82d7-b00b-432f-9145-5982e283b0ee",
   "metadata": {},
   "outputs": [],
   "source": []
  },
  {
   "cell_type": "code",
   "execution_count": null,
   "id": "aec18ec4-35f0-4a60-8b38-11176289770e",
   "metadata": {},
   "outputs": [],
   "source": []
  },
  {
   "cell_type": "code",
   "execution_count": null,
   "id": "6ca35fd3-ffa1-41f0-9eb2-90fac7f93459",
   "metadata": {},
   "outputs": [],
   "source": []
  }
 ],
 "metadata": {
  "kernelspec": {
   "display_name": "Python 3 (ipykernel)",
   "language": "python",
   "name": "python3"
  },
  "language_info": {
   "codemirror_mode": {
    "name": "ipython",
    "version": 3
   },
   "file_extension": ".py",
   "mimetype": "text/x-python",
   "name": "python",
   "nbconvert_exporter": "python",
   "pygments_lexer": "ipython3",
   "version": "3.11.8"
  }
 },
 "nbformat": 4,
 "nbformat_minor": 5
}
