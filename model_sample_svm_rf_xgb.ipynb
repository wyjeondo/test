{
 "cells": [
  {
   "cell_type": "code",
   "execution_count": 1,
   "id": "2c650632-a250-4623-b323-0d214fca0959",
   "metadata": {},
   "outputs": [],
   "source": [
    "import pandas as pd\n",
    "import anal_preprocess as ap\n",
    "import seaborn as sns\n",
    "import matplotlib.pyplot as plt\n",
    "import get_numcatg_data as gnca\n",
    "pd.set_option('display.max_columns', None)\n",
    "df = pd.read_csv('./student-mat.csv')\n",
    "df_ori = df.copy()\n",
    "df['grade'] = df['G1'].values + df['G2'].values + df['G3'].values \n",
    "input_data = df.drop(columns=['grade'])"
   ]
  },
  {
   "cell_type": "markdown",
   "id": "a3b35f9b-52cb-4778-9b22-c046930ad13b",
   "metadata": {},
   "source": [
    "#### 데이터 전처리"
   ]
  },
  {
   "cell_type": "code",
   "execution_count": 2,
   "id": "832ff4b3-9f53-4381-9fe8-f200843515e5",
   "metadata": {},
   "outputs": [
    {
     "name": "stdout",
     "output_type": "stream",
     "text": [
      "ShapiroResult(statistic=0.9926792337421895, pvalue=0.05052375511183993)\n",
      "본 결측치 체크는 연속형 변수에 대하여 진행합니다.\n",
      "결측치 데이터 컬럼 없음!\n",
      "Index(['age', 'Medu', 'Fedu', 'traveltime', 'studytime', 'failures', 'famrel',\n",
      "       'freetime', 'goout', 'Dalc', 'Walc', 'health', 'absences', 'G1', 'G2',\n",
      "       'G3', 'grade'],\n",
      "      dtype='object')\n",
      "이상치를 결측치로 대체한 후 KNN 방식으로 대체 ... 2차결측치 검증 진행\n",
      "본 결측치 체크는 연속형 변수에 대하여 진행합니다.\n",
      "결측치 데이터 컬럼 : 6개, ['age', 'traveltime', 'studytime', 'failures', 'Dalc', 'absences'] \n",
      "age            1\n",
      "Medu           0\n",
      "Fedu           0\n",
      "traveltime     8\n",
      "studytime     27\n",
      "failures      83\n",
      "famrel         0\n",
      "freetime       0\n",
      "goout          0\n",
      "Dalc          18\n",
      "Walc           0\n",
      "health         0\n",
      "absences      15\n",
      "G1             0\n",
      "G2             0\n",
      "G3             0\n",
      "grade          0\n",
      "dtype: int64\n",
      "KNN 알고리즘 대체\n",
      "결측치 대체 후 검정 결측치 컬럼갯수 : 0 \n",
      "본 결측치 체크는 연속형 변수에 대하여 진행합니다.\n",
      "결측치 데이터 컬럼 : 4개, ['Fjob_encd', 'guardian_encd', 'reason_encd', 'Mjob_encd'] \n",
      "Fjob_encd        3\n",
      "guardian_encd    2\n",
      "reason_encd      3\n",
      "Mjob_encd        2\n",
      "dtype: int64\n",
      "KNN 알고리즘 대체\n",
      "결측치 대체 후 검정 결측치 컬럼갯수 : 0 \n"
     ]
    }
   ],
   "source": [
    "mdsource = gnca.GetNumericCategoryAllData(df, df)\n",
    "col_out = \"grade\"\n",
    "numeric_data, catg_data, ctg_data = mdsource.main(col_out)"
   ]
  },
  {
   "cell_type": "code",
   "execution_count": 3,
   "id": "eaac743d-6571-48f9-842b-f51db530f471",
   "metadata": {},
   "outputs": [
    {
     "data": {
      "text/plain": [
       "17"
      ]
     },
     "execution_count": 3,
     "metadata": {},
     "output_type": "execute_result"
    }
   ],
   "source": [
    "len(catg_data.columns)"
   ]
  },
  {
   "cell_type": "code",
   "execution_count": 4,
   "id": "622dde9c-0578-446e-8b83-f77f7e7b50b6",
   "metadata": {},
   "outputs": [],
   "source": [
    "diff_catg_cols = set(ctg_data.columns).difference(set(catg_data.columns))\n",
    "category_data = ctg_data[list(diff_catg_cols)]"
   ]
  },
  {
   "cell_type": "code",
   "execution_count": 5,
   "id": "46ac98e4-2eec-4317-a74e-979572b91eb4",
   "metadata": {},
   "outputs": [
    {
     "data": {
      "text/plain": [
       "age                0\n",
       "Medu               0\n",
       "Fedu               0\n",
       "traveltime         0\n",
       "studytime          0\n",
       "failures           0\n",
       "famrel             0\n",
       "freetime           0\n",
       "goout              0\n",
       "Dalc               0\n",
       "Walc               0\n",
       "health             0\n",
       "absences           0\n",
       "G1                 0\n",
       "G2                 0\n",
       "G3                 0\n",
       "grade              0\n",
       "romantic_encd      0\n",
       "famsize_encd       0\n",
       "higher_encd        0\n",
       "address_encd       0\n",
       "sex_encd           0\n",
       "guardian_encd      0\n",
       "famsup_encd        0\n",
       "schoolsup_encd     0\n",
       "paid_encd          0\n",
       "activities_encd    0\n",
       "nursery_encd       0\n",
       "Mjob_encd          0\n",
       "internet_encd      0\n",
       "school_encd        0\n",
       "Pstatus_encd       0\n",
       "Fjob_encd          0\n",
       "reason_encd        0\n",
       "dtype: int64"
      ]
     },
     "execution_count": 5,
     "metadata": {},
     "output_type": "execute_result"
    }
   ],
   "source": [
    "df = pd.concat([numeric_data, category_data], axis=1)\n",
    "df.isna().sum()"
   ]
  },
  {
   "cell_type": "code",
   "execution_count": 6,
   "id": "90a2eb8c-3ce1-421a-9dce-615931c9a280",
   "metadata": {},
   "outputs": [],
   "source": [
    "#### 데이터 분할\n",
    "from sklearn.model_selection import train_test_split\n",
    "x = df.drop(col_out, axis=1)\n",
    "y = df[col_out]"
   ]
  },
  {
   "cell_type": "code",
   "execution_count": 7,
   "id": "33fd911c-2201-49d7-9e94-893f04dda409",
   "metadata": {},
   "outputs": [
    {
     "name": "stdout",
     "output_type": "stream",
     "text": [
      "(276, 33)\n",
      "(119, 33)\n",
      "(276,)\n",
      "(119,)\n"
     ]
    }
   ],
   "source": [
    "x_train, x_test, y_train, y_test = train_test_split(x,y,test_size=0.3, random_state=2022)\n",
    "print(x_train.shape)\n",
    "print(x_test.shape)\n",
    "print(y_train.shape)\n",
    "print(y_test.shape)"
   ]
  },
  {
   "cell_type": "markdown",
   "id": "33af3376-bc01-40c4-bb89-2ceafbe98878",
   "metadata": {},
   "source": [
    "### svm, xgboost, randomforest 3개 알고리즘 \n",
    "#### 회귀분석과 분류분석에 모두 적용가능하다 / 범주형 변수를 독립변수로 사용할 수 없다 / 과대과소적합을 피할 수 있음 / 회귀분석의 다중공선성의 문제를 해결"
   ]
  },
  {
   "cell_type": "code",
   "execution_count": 8,
   "id": "b073f17a-f252-4efc-a88d-7a1f1b3963ff",
   "metadata": {},
   "outputs": [],
   "source": [
    "from sklearn.svm import SVR\n",
    "from sklearn.ensemble import RandomForestRegressor\n",
    "from xgboost import XGBRegressor\n",
    "from sklearn.metrics import mean_squared_error\n",
    "from sklearn.preprocessing import StandardScaler\n",
    "from sklearn.svm import SVC"
   ]
  },
  {
   "cell_type": "code",
   "execution_count": 9,
   "id": "8b4645a8-ef90-47c5-921f-9981e3f8b889",
   "metadata": {},
   "outputs": [],
   "source": [
    "scaler = StandardScaler()\n",
    "x_train_scaled = pd.DataFrame(scaler.fit_transform(x_train), columns=x_train.columns)\n",
    "x_test_scaled = pd.DataFrame(scaler.fit_transform(x_test), columns=x_test.columns)"
   ]
  },
  {
   "cell_type": "markdown",
   "id": "6c8f1b31-d41d-42dd-b438-34366fb70a3f",
   "metadata": {},
   "source": [
    "#### SVM"
   ]
  },
  {
   "cell_type": "code",
   "execution_count": 10,
   "id": "91cbceb8-91ed-4fda-95b2-9a6bf192926f",
   "metadata": {},
   "outputs": [
    {
     "name": "stdout",
     "output_type": "stream",
     "text": [
      "R2:  0.9968953818705566\n",
      "RMSE:  0.6236536786319598\n"
     ]
    }
   ],
   "source": [
    "from sklearn.model_selection import GridSearchCV\n",
    "param_grid = [\n",
    "    {'C':[0.1, 1, 10, 100], 'gamma':[0.001, 0.01, 0.1, 1, 10]}\n",
    "]\n",
    "grid_svm = GridSearchCV(SVR(), param_grid = param_grid, cv =5)\n",
    "grid_svm.fit(x_train_scaled, y_train)\n",
    "result=pd.DataFrame(grid_svm.cv_results_['params'])\n",
    "result['mean_test_socre'] = grid_svm.cv_results_['mean_test_score']\n",
    "result = result.sort_values(by='mean_test_socre', ascending=False)\n",
    "result = result.reset_index()\n",
    "c_value = result.loc[0,\"C\"]\n",
    "g_value = result.loc[0,\"gamma\"]\n",
    "import numpy as np\n",
    "svr = SVR(C=c_value, gamma=g_value)\n",
    "svr.fit(x_train_scaled, y_train)\n",
    "print('R2: ', svr.score(x_test_scaled, y_test))\n",
    "print('RMSE: ', np.sqrt(mean_squared_error(y_test, svr.predict(x_test_scaled))))"
   ]
  },
  {
   "cell_type": "markdown",
   "id": "63dffa12-9423-41db-a7f8-2eb3c02d1c60",
   "metadata": {},
   "source": [
    "### RandomForest"
   ]
  },
  {
   "cell_type": "code",
   "execution_count": 11,
   "id": "caa4e405-bad1-449e-a284-4f4215d51ab8",
   "metadata": {},
   "outputs": [
    {
     "name": "stdout",
     "output_type": "stream",
     "text": [
      "R2:  0.9924719585498518\n",
      "RMSE:  28.509888877242524\n"
     ]
    }
   ],
   "source": [
    "rf_grid = [\n",
    "    {'max_depth':[2,4,6,8,10], 'min_samples_split':[2,4,6,7,10]}\n",
    "]\n",
    "rf = GridSearchCV(RandomForestRegressor(n_estimators=100), param_grid=rf_grid, cv=5)\n",
    "rf.fit(x_train, y_train)\n",
    "print('R2: ', rf.score(x_test, y_test))\n",
    "print('RMSE: ', np.sqrt(mean_squared_error(y_test, rf.predict(x_test_scaled))))"
   ]
  },
  {
   "cell_type": "markdown",
   "id": "947d2d84-98e3-4e3e-8446-475f2c4e186e",
   "metadata": {},
   "source": [
    "### XGBoost"
   ]
  },
  {
   "cell_type": "code",
   "execution_count": 12,
   "id": "450a2b83-9e72-4796-a448-c255d6ac1e54",
   "metadata": {},
   "outputs": [
    {
     "name": "stdout",
     "output_type": "stream",
     "text": [
      "R2:  0.9958258959313705\n",
      "RMSE:  28.195070842525038\n"
     ]
    }
   ],
   "source": [
    "xgb_grid = [\n",
    "    {'max_depth':[2,4,6,8,10], 'min_samples_split':[2,4,6,7,10]}\n",
    "]\n",
    "xgb = GridSearchCV(XGBRegressor(n_estimators=100), param_grid=xgb_grid, cv=5)\n",
    "xgb.fit(x_train, y_train)\n",
    "print('R2: ', xgb.score(x_test, y_test))\n",
    "print('RMSE: ', np.sqrt(mean_squared_error(y_test, xgb.predict(x_test_scaled))))"
   ]
  },
  {
   "cell_type": "code",
   "execution_count": null,
   "id": "108c1f9e-56d5-4ac1-8977-21fb0722aa9a",
   "metadata": {},
   "outputs": [],
   "source": []
  }
 ],
 "metadata": {
  "kernelspec": {
   "display_name": "Python 3 (ipykernel)",
   "language": "python",
   "name": "python3"
  },
  "language_info": {
   "codemirror_mode": {
    "name": "ipython",
    "version": 3
   },
   "file_extension": ".py",
   "mimetype": "text/x-python",
   "name": "python",
   "nbconvert_exporter": "python",
   "pygments_lexer": "ipython3",
   "version": "3.11.8"
  }
 },
 "nbformat": 4,
 "nbformat_minor": 5
}
