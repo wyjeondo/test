{
 "cells": [
  {
   "cell_type": "code",
   "execution_count": 1,
   "id": "ae3f7252-a6d0-45ee-9f7d-964a9b9b2789",
   "metadata": {},
   "outputs": [],
   "source": [
    "import pandas as pd\n",
    "import anal_preprocess as ap\n",
    "import seaborn as sns\n",
    "import matplotlib.pyplot as plt\n",
    "import get_numcatg_data as gnca\n",
    "pd.set_option('display.max_columns', None)\n",
    "df = pd.read_csv('./diabetes.csv')\n",
    "input_data = df.drop(columns=['Outcome'])"
   ]
  },
  {
   "cell_type": "code",
   "execution_count": 2,
   "id": "bd41f92c-2d75-4e6d-b45b-329424bbcb4b",
   "metadata": {},
   "outputs": [
    {
     "name": "stdout",
     "output_type": "stream",
     "text": [
      "ShapiroResult(statistic=0.6025138190827578, pvalue=1.2926899738528582e-38)\n",
      "본 결측치 체크는 연속형 변수에 대하여 진행합니다.\n",
      "결측치 데이터 컬럼 없음!\n",
      "Index(['Pregnancies', 'Glucose', 'BloodPressure', 'SkinThickness', 'Insulin',\n",
      "       'BMI', 'DiabetesPedigreeFunction', 'Age'],\n",
      "      dtype='object')\n",
      "이상치를 결측치로 대체한 후 KNN 방식으로 대체 ... 2차결측치 검증 진행\n",
      "본 결측치 체크는 연속형 변수에 대하여 진행합니다.\n",
      "결측치 데이터 컬럼 : 7개, ['Pregnancies', 'BloodPressure', 'SkinThickness', 'Insulin', 'BMI', 'DiabetesPedigreeFunction', 'Age'] \n",
      "Pregnancies                  4\n",
      "Glucose                      0\n",
      "BloodPressure                7\n",
      "SkinThickness                1\n",
      "Insulin                     34\n",
      "BMI                          8\n",
      "DiabetesPedigreeFunction    29\n",
      "Age                          9\n",
      "dtype: int64\n",
      "KNN 알고리즘 대체\n",
      "결측치 대체 후 검정 결측치 컬럼갯수 : 0 \n",
      "본 결측치 체크는 연속형 변수에 대하여 진행합니다.\n",
      "결측치 데이터 컬럼 없음!\n",
      "범주형 데이터 없음\n"
     ]
    }
   ],
   "source": [
    "mdsource = gnca.GetNumericCategoryAllData(input_data, df)\n",
    "col_out = \"Outcome\"\n",
    "numeric_data, catg_data, ctg_data = mdsource.main(col_out)"
   ]
  },
  {
   "cell_type": "markdown",
   "id": "e924d4f2-0db8-4915-b6dd-30ae2629de77",
   "metadata": {},
   "source": [
    "## 로지스틱 모델링"
   ]
  },
  {
   "cell_type": "code",
   "execution_count": 4,
   "id": "29dd2117-8fa7-4ba5-bdc3-4997de4f6255",
   "metadata": {},
   "outputs": [],
   "source": [
    "from sklearn.linear_model import LogisticRegression\n",
    "from xgboost import XGBClassifier\n",
    "import sklearn.svm as svm\n",
    "from sklearn.model_selection import KFold\n",
    "from sklearn.metrics import accuracy_score\n",
    "import numpy as np\n",
    "import time\n",
    "from imblearn.over_sampling import SMOTE\n",
    "\n",
    "log = LogisticRegression()\n",
    "xgb = XGBClassifier()\n",
    "svm = svm.SVC(kernel='linear')"
   ]
  },
  {
   "cell_type": "code",
   "execution_count": 12,
   "id": "18c79674-ec90-445c-b4dc-3f5a4133610b",
   "metadata": {},
   "outputs": [
    {
     "name": "stdout",
     "output_type": "stream",
     "text": [
      "0.01421 sec\n",
      "0.7527289703760293\n",
      "0.04258 sec\n",
      "0.7370087428910959\n",
      "1.37605 sec\n",
      "0.7448943213649096\n"
     ]
    }
   ],
   "source": [
    "# 일반적인 로지스틱 모델링\n",
    "kfold =KFold() # default = 5, 5개의 경우의 수로 분할하여 검증, ex) kfold = KFold(n_splits=3, shuffle=True) \n",
    "smote = SMOTE(random_state=0) # 클래스 불균형 해결안\n",
    "class Model_class:\n",
    "    def model_result(self, model, col_out, df_x, df_y): #model_df는 결과열을 포함하지 않는 데이터 프레임.\n",
    "        pred_li = []\n",
    "        for train_index, test_index in kfold.split(df_x):\n",
    "            x_train, x_test = df_x.iloc[train_index, :], df_x.iloc[test_index, :]\n",
    "            y_train, y_test = df_y.iloc[train_index, :], df_y.iloc[test_index, :]\n",
    "            x_train_resample, y_train_resample = smote.fit_resample(x_train, y_train)\n",
    "            \n",
    "            start = time.time()\n",
    "            model.fit(x_train_resample, y_train_resample)\n",
    "            end = time.time()\n",
    "            pred = model.predict(x_test)\n",
    "            pred_li.append(accuracy_score(pred, y_test[col_out]))\n",
    "        print(f\"{end-start:.5f} sec\")\n",
    "        print(np.mean(pred_li))\n",
    "        \n",
    "    def pca_model_result(self, model, col_out, df_x, df_y):\n",
    "        pred_li = []\n",
    "        for train_index, test_index in kfold.split(df_x):\n",
    "            x_train, x_test = df_x.iloc[train_index, :], df_x.iloc[test_index, :]\n",
    "            y_train, y_test = df_y.iloc[train_index, :], df_y.iloc[test_index, :]\n",
    "            x_train_resample, y_train_resample = smote.fit_resample(x_train, y_train)\n",
    "\n",
    "            scaler = StandardScaler()\n",
    "            x_train_res_s = scaler.fit_transform(x_train_resample)\n",
    "            x_test_s = scaler.transform(x_test)\n",
    "                                        \n",
    "            num = len(df_x.columns)\n",
    "            pca = PCA(n_components=num)\n",
    "            x_train_pca = pca.fit_transform(x_train_res_s)\n",
    "            x_test_pca = scaler.transform(x_test_s)\n",
    "\n",
    "            start = time.time()\n",
    "            model.fit(x_train_resample, y_train_resample)\n",
    "            end = time.time()\n",
    "            pred = model.predict(x_test)\n",
    "            pred_li.append(accuracy_score(pred, y_test[col_out]))\n",
    "        print(f\"{end-start:.5f} sec\")\n",
    "        print(np.mean(pred_li))\n",
    "            \n",
    "mc = Model_class()\n",
    "col_out = 'Outcome'\n",
    "y = df[[col_out]]\n",
    "'''\n",
    "mc.model_result(log, col_out, numeric_data, y)\n",
    "mc.model_result(xgb, col_out, numeric_data, y)\n",
    "mc.model_result(svm, col_out, numeric_data, y)\n",
    "'''\n",
    "mc.pca_model_result(log, col_out, numeric_data, y)\n",
    "mc.pca_model_result(xgb, col_out, numeric_data, y)\n",
    "mc.pca_model_result(svm, col_out, numeric_data, y)"
   ]
  },
  {
   "cell_type": "code",
   "execution_count": 9,
   "id": "50f072e2-7d5a-4421-8071-942d7fefdf2f",
   "metadata": {},
   "outputs": [
    {
     "name": "stdout",
     "output_type": "stream",
     "text": [
      "[0.26638727 0.22566174 0.12075826 0.11202891 0.09170219 0.08598093\n",
      " 0.04966146 0.04781923]\n",
      "0.8165383766722168\n"
     ]
    }
   ],
   "source": [
    "# 속도개선\n",
    "from sklearn.preprocessing import StandardScaler\n",
    "from sklearn.decomposition import PCA #PCA 주요 성분 분석방법\n",
    "from sklearn.model_selection import train_test_split\n",
    "\n",
    "smote = SMOTE(random_state = 0)\n",
    "x_train, x_test, y_train, y_test = train_test_split(numeric_data, y, stratify=y, test_size=0.3, random_state=2022)\n",
    "scaler = StandardScaler()\n",
    "x_train_s = scaler.fit_transform(x_train)\n",
    "num = len(numeric_data.columns)\n",
    "pca = PCA(n_components=num)\n",
    "x_train_pca = pca.fit(x_train_s)\n",
    "\n",
    "print(pca.explained_variance_ratio_)\n",
    "print(pca.explained_variance_ratio_[:5].sum())"
   ]
  },
  {
   "cell_type": "code",
   "execution_count": null,
   "id": "2401cd77-3d9a-4e01-a15b-324083a68036",
   "metadata": {},
   "outputs": [],
   "source": []
  },
  {
   "cell_type": "code",
   "execution_count": null,
   "id": "fbb1f91e-38af-4ea7-aa8e-32306a55b449",
   "metadata": {},
   "outputs": [],
   "source": []
  },
  {
   "cell_type": "code",
   "execution_count": null,
   "id": "6bc222af-695a-4777-a180-1b6a8391a096",
   "metadata": {},
   "outputs": [],
   "source": []
  },
  {
   "cell_type": "code",
   "execution_count": null,
   "id": "e903d0ee-014e-4d97-b7c6-eaf0f09da599",
   "metadata": {},
   "outputs": [],
   "source": []
  }
 ],
 "metadata": {
  "kernelspec": {
   "display_name": "Python 3 (ipykernel)",
   "language": "python",
   "name": "python3"
  },
  "language_info": {
   "codemirror_mode": {
    "name": "ipython",
    "version": 3
   },
   "file_extension": ".py",
   "mimetype": "text/x-python",
   "name": "python",
   "nbconvert_exporter": "python",
   "pygments_lexer": "ipython3",
   "version": "3.11.8"
  }
 },
 "nbformat": 4,
 "nbformat_minor": 5
}
