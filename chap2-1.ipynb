{
 "cells": [
  {
   "cell_type": "code",
   "execution_count": null,
   "id": "48ca3e0a-a783-4033-9517-4aabb87998d1",
   "metadata": {},
   "outputs": [],
   "source": [
    "#pip3 install apache-airflow \n",
    "#설치한 후 airflow 폴더 위치를 기억해둔다.\n",
    "\n",
    "#dag파일을 만들고 난 후 아래 명령어로 실행하여 airflow 브라우저에 접속한다.\n",
    "'''\n",
    "1. airflow db init\n",
    "2. airflow users create --username admin --password admin --firstname Anonymous --lastname Admin --role Admin --email addmin@exeample.org \n",
    "3. cp download_rocket_launches.py ~/airflow/dags/ # 여기서 중요한 건 해당 실행 명령어가 airflow 폴더 path어야 한다는 것!\n",
    "4. airflow webserver # 웹서버와 / 스케줄 서버는 모두 각 다른 터미널에서 실행해야 함\n",
    "5. airflow scheduler # 웹서버와 / 스케줄 서버는 모두 각 다른 터미널에서 실행해야 함\n",
    "--> 최종 : http://localhost:8080 브라우저에서 이동 후 암호는 상기 username과 password 입력값을 입력하여 로그인한다.\n",
    "https://github.com/K9Ns/data-pipelines-with-apache-airflow/blob/main/chapter02/dags/download_rocket_launches.py\n",
    "'''"
   ]
  },
  {
   "cell_type": "code",
   "execution_count": 7,
   "id": "0d45c830-3686-41fe-b5be-3b96a17c42bb",
   "metadata": {},
   "outputs": [],
   "source": [
    "#pip3 install apache-airflow\n",
    "import json \n",
    "import pathlib\n",
    "import airflow\n",
    "import requests\n",
    "import requests.exceptions as requests_exceptions\n",
    "from airflow import DAG\n",
    "from airflow.operators.bash import BashOperator\n",
    "from airflow.operators.python import PythonOperator"
   ]
  },
  {
   "cell_type": "code",
   "execution_count": 8,
   "id": "591a9a32-083f-4380-9c8f-5ce65deab41e",
   "metadata": {},
   "outputs": [
    {
     "data": {
      "text/plain": [
       "'\\nDAG는 모든 워크플로의 시작점입니다. \\n워크플로 내의 모든 태스크는 DAG 개체를 참조하므로 Airflow는 어떤 태스크가 어떤 DAG에 속하는지 확인할 수 있다.\\n태스크 = DAG개체 \\n'"
      ]
     },
     "execution_count": 8,
     "metadata": {},
     "output_type": "execute_result"
    }
   ],
   "source": [
    "'''\n",
    "클래스 = 개체 = 인스턴스 (성형=틀 같은 것)\n",
    "\n",
    "DAG는 모든 워크플로의 시작점입니다. \n",
    "워크플로 내의 모든 태스크는 DAG 개체를 참조하므로 Airflow는 어떤 태스크가 어떤 DAG에 속하는지 확인할 수 있다.\n",
    "태스크 = DAG개체 \n",
    "'''"
   ]
  },
  {
   "cell_type": "code",
   "execution_count": 11,
   "id": "e1d54075-6d26-4651-bea3-ef8cc070a597",
   "metadata": {},
   "outputs": [],
   "source": [
    "def _get_pictures(): #파이썬 함수는 결괏값을 파싱하고 모든 로켓 사진을 다운로드\n",
    "    # 경로가 존재하는지 확인\n",
    "    pathlib.path(\"/tmp/images\").mkdir(parents=True, exist_ok=True) #경로가 없으면 디렉터리 생성\n",
    "\n",
    "    # launches.json파일에 있는 모든 그림 파일을 다운로드\n",
    "    with open(\"/tmp/launches.json\") as f: #이전 단계의 태스크 결과 확인\n",
    "        launches = json.load(f) #데이터를 섞을 수 있도록 딕셔너리로 읽기\n",
    "        image_urls = [launch[\"image\"] for launch in launches[\"results\"]] #모든 발사에 대한 'image'의 URL값 읽기\n",
    "        print(image_urls)\n",
    "        for image_url in image_urls: #모든 이미지 url을 얻기 위한 루프\n",
    "            try:\n",
    "                response = requests.get(image_url) #각각의 이미 다운로드\n",
    "                image_filename = image_url.split(\"/\")[-1] #마지막 파일 이름만 가져온다. 예: https://host/rocket/elec.jpg --> elec.jpg\n",
    "                target_file = f\"/tmp/images/{image_filename}\" #타켓 파일 저장 경로 구성\n",
    "                with open(target_file, \"wb\") as f: #타켓파일 핸들 열기\n",
    "                    f.write(response.content) #각각의 이미지 저장 = 파일경로에 이미지 쓰기\n",
    "                print(f\"Downloaded {image_url} to {target_file}\") # 결과출력 - Airflow 로그에 저장하기 위해 stdout으로 출력\n",
    "            #잠재적인 에러 포착 및 처리\n",
    "            except requests_exceptions.MissingSchema:\n",
    "                print(f\"{image_url} appears to be an invalid URL.\")\n",
    "            except requests_exceptions.ConnectionError:\n",
    "                print(f\"Could not connect to {image_url}.\")"
   ]
  },
  {
   "cell_type": "code",
   "execution_count": 9,
   "id": "0e5e689a-c434-438a-a7e3-a9af5b115d1f",
   "metadata": {},
   "outputs": [
    {
     "data": {
      "text/html": [
       "<pre style=\"white-space:pre;overflow-x:auto;line-height:normal;font-family:Menlo,'DejaVu Sans Mono',consolas,'Courier New',monospace\"><span style=\"color: #808000; text-decoration-color: #808000; font-weight: bold\">/var/folders/2d/5jxp7bv92glgvnjqd0_c5bhc0000gn/T/ipykernel_1649/4188763560.py:</span><span style=\"color: #808000; text-decoration-color: #808000; font-weight: bold\">3</span><span style=\"color: #808000; text-decoration-color: #808000; font-weight: bold\"> RemovedInAirflow3Warning</span><span style=\"color: #808000; text-decoration-color: #808000\">: Function `days_ago` is deprecated and will be removed in Airflow </span><span style=\"color: #808000; text-decoration-color: #808000; font-weight: bold\">3.0</span><span style=\"color: #808000; text-decoration-color: #808000\">. You can achieve equivalent behavior with `</span><span style=\"color: #808000; text-decoration-color: #808000; font-weight: bold\">pendulum.today(</span><span style=\"color: #808000; text-decoration-color: #808000\">'UTC'</span><span style=\"color: #808000; text-decoration-color: #808000; font-weight: bold\">).add(</span><span style=\"color: #808000; text-decoration-color: #808000\">days</span><span style=\"color: #808000; text-decoration-color: #808000\">=-N, ...</span><span style=\"color: #808000; text-decoration-color: #808000; font-weight: bold\">)</span><span style=\"color: #808000; text-decoration-color: #808000\">`</span>\n",
       "</pre>\n"
      ],
      "text/plain": [
       "\u001b[1;33m/var/folders/2d/5jxp7bv92glgvnjqd0_c5bhc0000gn/T/ipykernel_1649/\u001b[0m\u001b[1;33m4188763560.py\u001b[0m\u001b[1;33m:\u001b[0m\u001b[1;33m3\u001b[0m\u001b[1;33m RemovedInAirflow3Warning\u001b[0m\u001b[33m: Function `days_ago` is deprecated and will be removed in Airflow \u001b[0m\u001b[1;33m3.0\u001b[0m\u001b[33m. You can achieve equivalent behavior with `\u001b[0m\u001b[1;33mpendulum.today\u001b[0m\u001b[1;33m(\u001b[0m\u001b[33m'UTC'\u001b[0m\u001b[1;33m)\u001b[0m\u001b[1;33m.add\u001b[0m\u001b[1;33m(\u001b[0m\u001b[33mdays\u001b[0m\u001b[33m=-N, \u001b[0m\u001b[33m...\u001b[0m\u001b[1;33m)\u001b[0m\u001b[33m`\u001b[0m\n"
      ]
     },
     "metadata": {},
     "output_type": "display_data"
    },
    {
     "data": {
      "text/html": [
       "<pre style=\"white-space:pre;overflow-x:auto;line-height:normal;font-family:Menlo,'DejaVu Sans Mono',consolas,'Courier New',monospace\"><span style=\"color: #808000; text-decoration-color: #808000; font-weight: bold\">/var/folders/2d/5jxp7bv92glgvnjqd0_c5bhc0000gn/T/ipykernel_1649/4188763560.py:</span><span style=\"color: #808000; text-decoration-color: #808000; font-weight: bold\">1</span><span style=\"color: #808000; text-decoration-color: #808000; font-weight: bold\"> RemovedInAirflow3Warning</span><span style=\"color: #808000; text-decoration-color: #808000\">: Param `schedule_interval` is deprecated and will be removed in a future release. Please use `schedule` instead.</span>\n",
       "</pre>\n"
      ],
      "text/plain": [
       "\u001b[1;33m/var/folders/2d/5jxp7bv92glgvnjqd0_c5bhc0000gn/T/ipykernel_1649/\u001b[0m\u001b[1;33m4188763560.py\u001b[0m\u001b[1;33m:\u001b[0m\u001b[1;33m1\u001b[0m\u001b[1;33m RemovedInAirflow3Warning\u001b[0m\u001b[33m: Param `schedule_interval` is deprecated and will be removed in a future release. Please use `schedule` instead.\u001b[0m\n"
      ]
     },
     "metadata": {},
     "output_type": "display_data"
    },
    {
     "data": {
      "text/plain": [
       "'\\ndag는 DAG클래스를 구체화한 인스턴스의이름입니다.\\n인스턴스 이름은 임의로 지정하면 됩니다. 예를 들어 rocket_dag 또는 whatever_name_you_like로 지정할 수 있다.\\n모든 오퍼레이터는 변수(소문자dag)를 참조하여 인스턴스가 어떤 DAG에 속한 것인지 Airflow에게 알려 줍니다.\\n'"
      ]
     },
     "execution_count": 9,
     "metadata": {},
     "output_type": "execute_result"
    }
   ],
   "source": [
    "'''\n",
    "[1] DAG 객체 선언\n",
    "#객체의 인스턴스 생성(구체화) - 모든 워크플로의 시작점\n",
    "dag는 DAG클래스를 구체화한 인스턴스의이름입니다.\n",
    "인스턴스 이름은 임의로 지정하면 됩니다. 예를 들어 rocket_dag 또는 whatever_name_you_like로 지정할 수 있다.\n",
    "모든 오퍼레이터는 변수(소문자dag)를 참조하여 인스턴스가 어떤 DAG에 속한 것인지 Airflow에게 알려 줍니다.\n",
    "'''\n",
    "dag = DAG(  \n",
    "    dag_id = \"download_rocket_launches\", #Airflow UI에 표시되는 DAG 이름 \n",
    "    start_date = airflow.utils.dates.days_ago(14), #워크플로가 처음 실행되는 날짜/시간\n",
    "    schedule_interval = None, #자동으로 실행되지 않음을 의미 --> Airflow UI를 통해 수동으로 실행, 2.4절에서 예약으로 실행하는 방법\n",
    ")"
   ]
  },
  {
   "cell_type": "code",
   "execution_count": null,
   "id": "d649da13-d431-4657-8280-874348c53bf4",
   "metadata": {},
   "outputs": [],
   "source": [
    "'''\n",
    "[2] 태스크와 오퍼레이터 \n",
    "각 오퍼레이터는 하나의 태스크를 수행하고 여러 개의 오퍼레이터가 Airflow의 워크플로 또는 DAG를 구성합니다. \n",
    "오퍼레이터는 서로 독립적으로 실행할 수 있지만, 순서를 정의해 실행 할수 있다.\n",
    "'''"
   ]
  },
  {
   "cell_type": "code",
   "execution_count": null,
   "id": "2d052111-3230-4f17-bb98-c9ff92220016",
   "metadata": {},
   "outputs": [],
   "source": [
    "'''\n",
    "태스크 목적 : 목적에 따라 bash/python/email/http를 구분하기 위함 (예: 데이터를 가져오는 작업)\n",
    "\n",
    "태스크 name : 임의지정\n",
    "실행  type : BashOperator\n",
    "task_id = 태스크 명칭\n",
    "bash_command = bash 명령어\n",
    "dag : dag 객체명\n",
    "'''"
   ]
  },
  {
   "cell_type": "code",
   "execution_count": null,
   "id": "72b1c670-7aa8-4a1d-96be-1e40351fce6f",
   "metadata": {},
   "outputs": [],
   "source": [
    "'''\n",
    "태스크 목적 : 목적에 따라 bash/python/email/http를 구분하기 위함 (예: 데이터를 가져오는 작업)\n",
    "\n",
    "태스크 name : 임의지정\n",
    "실행  type : PythonOperator\n",
    "task_id = 태스크 명칭\n",
    "python_callable = 실행할 파이썬 함수명\n",
    "dag : dag 객체명\n",
    "'''"
   ]
  },
  {
   "cell_type": "code",
   "execution_count": 10,
   "id": "16e77875-74f5-4d2b-8511-6ffd1ec855f2",
   "metadata": {},
   "outputs": [],
   "source": [
    "download_launches = BashOperator(\n",
    "    task_id = \"download_launches\", #태스크 이름\n",
    "    bash_command = \"curl -o /tmp/launches.json 'https://ll.thespacedevs.com/2.0.0/launch/upcoming'\", #실행할 배시 커맨드\n",
    "    dag = dag, #DAG 변수에 대한 참조\n",
    ")"
   ]
  },
  {
   "cell_type": "code",
   "execution_count": 13,
   "id": "d223e4a4-842d-4f57-8f77-0f584bdf86f7",
   "metadata": {},
   "outputs": [],
   "source": [
    "get_pictures = PythonOperator(\n",
    "    task_id = \"get_pictures\",\n",
    "    python_callable = _get_pictures,\n",
    "    dag = dag,\n",
    ")"
   ]
  },
  {
   "cell_type": "code",
   "execution_count": 14,
   "id": "5269bc34-d5d0-4486-8a80-9faf85aeae15",
   "metadata": {},
   "outputs": [],
   "source": [
    "notify = BashOperator(\n",
    "    task_id = \"notify\",\n",
    "    bash_command = 'echo \"there are no $(ls /tmp/images/ | wc -l) images.\"',\n",
    "    dag = dag,\n",
    ")"
   ]
  },
  {
   "cell_type": "code",
   "execution_count": null,
   "id": "e823862e-80ad-4713-8631-9ef25876adbd",
   "metadata": {},
   "outputs": [],
   "source": [
    "download_launches >> get_pictures >> notify # 태스크 실행 순서 설정"
   ]
  },
  {
   "cell_type": "code",
   "execution_count": null,
   "id": "79bb5caf-d417-41e4-92f3-64acbd60ef8c",
   "metadata": {},
   "outputs": [],
   "source": []
  },
  {
   "cell_type": "code",
   "execution_count": null,
   "id": "d4fc4a03-3ece-4e0e-aa0d-707a994d8b8b",
   "metadata": {},
   "outputs": [],
   "source": []
  }
 ],
 "metadata": {
  "kernelspec": {
   "display_name": "Python 3 (ipykernel)",
   "language": "python",
   "name": "python3"
  },
  "language_info": {
   "codemirror_mode": {
    "name": "ipython",
    "version": 3
   },
   "file_extension": ".py",
   "mimetype": "text/x-python",
   "name": "python",
   "nbconvert_exporter": "python",
   "pygments_lexer": "ipython3",
   "version": "3.11.8"
  }
 },
 "nbformat": 4,
 "nbformat_minor": 5
}
