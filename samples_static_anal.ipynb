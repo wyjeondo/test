{
 "cells": [
  {
   "cell_type": "markdown",
   "id": "7ef8cf55-9ce8-49b3-ad65-0326c4cc6e4c",
   "metadata": {},
   "source": [
    "### [1] 1개열 검정 --> 등분산 검정\n",
    "#### 회사 제품의 급속 재질 함유량의 분산이 1.3을 넘으면 불량이라고 판단한다. 회사에서 품질경영팀으로부터 제조사별 금속 함유량이 차이가 난다고 제보를 받았다. 해당 금속 함유량 데이터에 대한 검정을 수행하시오. (유의확률: 0.05)\n",
    "#### 귀무가설(H0) : 제품들의 금속 재질 함유량 분산은 1.3이다.\n",
    "#### 대립가설(H1) : 제품들의 금속 재질 함유량 분산은 1.3이 아니다."
   ]
  },
  {
   "cell_type": "code",
   "execution_count": null,
   "id": "142c0aba-41c1-4365-bbdd-b1af1f3fa58a",
   "metadata": {},
   "outputs": [],
   "source": [
    "import pandas as pd\n",
    "import numpy as np\n",
    "f_path = \n",
    "col_name = \n",
    "df = pd.read_csv(f_path)\n",
    "# 정규분포 여부확인\n",
    "import scipy.stats as stats\n",
    "print(stats.shapiro(df[col_name]))"
   ]
  },
  {
   "cell_type": "code",
   "execution_count": null,
   "id": "4cb95fa8-7dbd-4af8-a23c-ab808196df0a",
   "metadata": {},
   "outputs": [],
   "source": [
    "# 1열만 존재하고 정규분포를 따를경우 정규분포를 따르는 분산이 v인 비교데이터를 만들어주고 등분산 검정을 진행한다.\n",
    "avg =  # col_name열의 평균값\n",
    "var = 1.3 # 측정값 / 예측값\n",
    "length = # col_name열의 행 길이\n",
    "test = np.random.normal(avg, var**0.5, length)"
   ]
  },
  {
   "cell_type": "code",
   "execution_count": null,
   "id": "bcfe05cf-72da-4b42-a292-cb46ccab5641",
   "metadata": {},
   "outputs": [],
   "source": [
    "values = stats.levene(df[col_name], test)\n",
    "if values[1] < 0.05:\n",
    "    print('H0 기각, H1 채택')\n",
    "else:\n",
    "    print('H0 채택')"
   ]
  },
  {
   "cell_type": "markdown",
   "id": "77e1ed63-0412-4419-aadf-7b12929f784f",
   "metadata": {},
   "source": [
    "### [2] p 관리도\n",
    "#### 관리 중심선을 균으로 상하하선을 중심선 플러스/마이너스 상수 혹은 중심선 플러스/마이너스 3sigma로 그릴 수 있다.\n",
    "#### 1) n: lot별 생산수량\n",
    "#### 2) p: lot별 불량수량 %\n",
    "#### 3) CL(관리중심선) : 전체 불량수량 / 전체 생산수량\n",
    "#### 4) 관리 상한선 = p+3root((p*(1-p))/n) / 관리 하한성 = p-3root((p*(1-p))/n)"
   ]
  },
  {
   "cell_type": "code",
   "execution_count": null,
   "id": "44faa294-1039-4095-b22e-3ac656a234ad",
   "metadata": {},
   "outputs": [],
   "source": [
    "import pandas as pd\n",
    "f_path = \n",
    "df = pd.read_csv(f_apth)\n",
    "df.head()\n",
    "\n",
    "col_index = # lot번호와 같은 고유식별번호를 사용\n",
    "df = df.set_index(col_index)\n",
    "\n",
    "col_p = \"p\"\n",
    "col_ucl = \"UCL\"\n",
    "col_lcl = \"LCL\"\n",
    "col_disabled = #불량대상 컬럼명\n",
    "col_product = #생산수량\n",
    "df[col_p] = df[col_disabled]/df[col_product]\n",
    "df[col_ucl] = df[col_p] + (3*(df[col_p]*(1-df[col_p])/df[col_product])**0.5)\n",
    "df[col_lcl] = df[col_p] - (3*(df[col_p]*(1-df[col_p])/df[col_product])**0.5)\n",
    "\n",
    "value_cl = df[col_disabled].sum()/df[col_product].sum()\n",
    "print(\"관리중심선 : \", value_cl)\n",
    "\n",
    "# -- 관리도 시각화\n",
    "import matplotlib.pyplot as plt\n",
    "plt.figure()\n",
    "plt.plot(df[col_ucl])\n",
    "plt.plot(df[col_lcl])\n",
    "plt.plot(df[col_p], marker = 'o')\n",
    "plt.hlines(value_cl, 1, 200)\n",
    "plt.legend(['UCL','LCL','p','CL'])"
   ]
  },
  {
   "cell_type": "markdown",
   "id": "b040315a-1754-4e12-b3a0-266d16a4c7eb",
   "metadata": {},
   "source": [
    "### [3] 최대수익 문제\n",
    "#### 제품 1,2를 만드는 데 재료 a, b, c가 일부 사용되며, 제품 1과 2를 만들 떄 12만원 18만원을 벌 수 있다. 재료는 한정적으로 주어지는데, 이때 최대 수익을 낼 수 있을 때의 제품 1과 제품2의 개수를 구하여라\n",
    "#### 제품 공급량 예산 = {a: 1300, b: 1000, c:1200}\n",
    "#### 제품 (a,b,c) 순으로 투입되는 수량\n",
    "#### 제품1 = (20, 20, 20) \n",
    "#### 제품2 =  (40, 30, 30)"
   ]
  },
  {
   "cell_type": "code",
   "execution_count": null,
   "id": "a7dd9bfd-c29b-46fe-98c2-d6ef5ba74914",
   "metadata": {},
   "outputs": [],
   "source": [
    "# 문제를 풀어보자면, 제품 2를 최대로 만드는 경우에서 제품 2의 개수를 하나씩 줄여가면서 제품 1을 만드는 방식으로 풀 수 있다.\n",
    "# 원재료 제품2를 만들 수 있는 최대 수량은 32이며, 남은 원재료는 a:20, b:40, c:240이 된다."
   ]
  },
  {
   "cell_type": "code",
   "execution_count": 8,
   "id": "49d95eb0-3df7-494e-8c6a-62a6d10ea995",
   "metadata": {},
   "outputs": [
    {
     "name": "stdout",
     "output_type": "stream",
     "text": [
      "최대수익 600만원이다.\n",
      "제품 1 수량은 5\n",
      "제품 1 수량은 30\n"
     ]
    }
   ],
   "source": [
    "x=0\n",
    "y=32\n",
    "max_profit = 32*18\n",
    "material_a = 20\n",
    "material_b = 40\n",
    "material_c = 240\n",
    "while((material_a>0) or (material_b>0) or (material_c>0)):\n",
    "    y-=1\n",
    "    material_a +=40\n",
    "    material_b +=30\n",
    "    material_c +=30\n",
    "    \n",
    "    while((material_a>=20) and (material_b>=20) and (material_c>=20)):\n",
    "        x+=1\n",
    "        material_a -= 20\n",
    "        material_b -= 20\n",
    "        material_c -= 20\n",
    "        \n",
    "        if (y*18 + x*12)>max_profit:\n",
    "            max_profit = (y*18 + x*12)\n",
    "            result_x=x\n",
    "            result_y=y\n",
    "            \n",
    "            \n",
    "    if y==0:\n",
    "        break\n",
    "print(f\"최대수익 {max_profit}만원이다.\")\n",
    "print(f\"제품 1 수량은 {result_x}\")\n",
    "print(f\"제품 1 수량은 {result_y}\")"
   ]
  },
  {
   "cell_type": "markdown",
   "id": "7522e689-85a0-42e7-86c7-f9106cab867a",
   "metadata": {},
   "source": [
    "### [2] 상품 패턴문제\n",
    "#### ['a','a','b',b'----]\n",
    "#### 귀무가설 : 연속적인 관측값이 임의적이다. 즉 연관성이 없다.\n",
    "#### 대립가설 : 연소적인 관측값이 임의적이 아니다. 즉 연관성이 있다."
   ]
  },
  {
   "cell_type": "code",
   "execution_count": null,
   "id": "71a845da-14e6-4596-8b29-946ed93a5eab",
   "metadata": {},
   "outputs": [],
   "source": [
    "import pandas as pd\n",
    "data = []\n",
    "test_df = pd.DataFrame(data, columns=['product'])\n",
    "test_df.loc[test_df['product']=='a', 'product'] = 1\n",
    "test_df.loc[test_df['product']=='b', 'product'] = 0\n",
    "\n",
    "from statsmodels.sandbox.stats.runs import runstest_1samp\n",
    "runstest_1samp(test_df['product'])"
   ]
  },
  {
   "cell_type": "code",
   "execution_count": null,
   "id": "cff9eafb-5750-4fb1-a865-8b31c7d300ca",
   "metadata": {},
   "outputs": [],
   "source": []
  }
 ],
 "metadata": {
  "kernelspec": {
   "display_name": "Python 3 (ipykernel)",
   "language": "python",
   "name": "python3"
  },
  "language_info": {
   "codemirror_mode": {
    "name": "ipython",
    "version": 3
   },
   "file_extension": ".py",
   "mimetype": "text/x-python",
   "name": "python",
   "nbconvert_exporter": "python",
   "pygments_lexer": "ipython3",
   "version": "3.11.8"
  }
 },
 "nbformat": 4,
 "nbformat_minor": 5
}
