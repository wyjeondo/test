{
 "cells": [
  {
   "cell_type": "markdown",
   "id": "5210a852-2bcf-4097-a630-352d0f7c0a72",
   "metadata": {},
   "source": [
    "### 카이제곱\n",
    "#### 종속변수가 범주형 변수인 경우, 각 범주에 따른 결과변수의 분포를 설명하거나 범주형 변수가 두 개 이상인 경우 두변수가 상관이 있는지를 검정하는 것\n"
   ]
  },
  {
   "cell_type": "code",
   "execution_count": 1,
   "id": "ad6b44cc-9431-4163-a642-55f6d85b5828",
   "metadata": {},
   "outputs": [],
   "source": [
    "import pandas as pd\n",
    "f_path = './titanic.csv'\n",
    "data = pd.read_csv(f_path)"
   ]
  },
  {
   "cell_type": "code",
   "execution_count": 4,
   "id": "d4b48d9c-b31b-4220-85f3-73dc9d851a0f",
   "metadata": {},
   "outputs": [
    {
     "data": {
      "text/html": [
       "<div>\n",
       "<style scoped>\n",
       "    .dataframe tbody tr th:only-of-type {\n",
       "        vertical-align: middle;\n",
       "    }\n",
       "\n",
       "    .dataframe tbody tr th {\n",
       "        vertical-align: top;\n",
       "    }\n",
       "\n",
       "    .dataframe thead th {\n",
       "        text-align: right;\n",
       "    }\n",
       "</style>\n",
       "<table border=\"1\" class=\"dataframe\">\n",
       "  <thead>\n",
       "    <tr style=\"text-align: right;\">\n",
       "      <th></th>\n",
       "      <th>PassengerId</th>\n",
       "      <th>Survived</th>\n",
       "      <th>Pclass</th>\n",
       "      <th>Name</th>\n",
       "      <th>Sex</th>\n",
       "      <th>Age</th>\n",
       "      <th>SibSp</th>\n",
       "      <th>Parch</th>\n",
       "      <th>Ticket</th>\n",
       "      <th>Fare</th>\n",
       "      <th>Cabin</th>\n",
       "      <th>Embarked</th>\n",
       "    </tr>\n",
       "  </thead>\n",
       "  <tbody>\n",
       "    <tr>\n",
       "      <th>0</th>\n",
       "      <td>1</td>\n",
       "      <td>0</td>\n",
       "      <td>3</td>\n",
       "      <td>Braund, Mr. Owen Harris</td>\n",
       "      <td>male</td>\n",
       "      <td>22.0</td>\n",
       "      <td>1</td>\n",
       "      <td>0</td>\n",
       "      <td>A/5 21171</td>\n",
       "      <td>7.2500</td>\n",
       "      <td>NaN</td>\n",
       "      <td>S</td>\n",
       "    </tr>\n",
       "    <tr>\n",
       "      <th>1</th>\n",
       "      <td>2</td>\n",
       "      <td>1</td>\n",
       "      <td>1</td>\n",
       "      <td>Cumings, Mrs. John Bradley (Florence Briggs Th...</td>\n",
       "      <td>female</td>\n",
       "      <td>38.0</td>\n",
       "      <td>1</td>\n",
       "      <td>0</td>\n",
       "      <td>PC 17599</td>\n",
       "      <td>71.2833</td>\n",
       "      <td>C85</td>\n",
       "      <td>C</td>\n",
       "    </tr>\n",
       "  </tbody>\n",
       "</table>\n",
       "</div>"
      ],
      "text/plain": [
       "   PassengerId  Survived  Pclass  \\\n",
       "0            1         0       3   \n",
       "1            2         1       1   \n",
       "\n",
       "                                                Name     Sex   Age  SibSp  \\\n",
       "0                            Braund, Mr. Owen Harris    male  22.0      1   \n",
       "1  Cumings, Mrs. John Bradley (Florence Briggs Th...  female  38.0      1   \n",
       "\n",
       "   Parch     Ticket     Fare Cabin Embarked  \n",
       "0      0  A/5 21171   7.2500   NaN        S  \n",
       "1      0   PC 17599  71.2833   C85        C  "
      ]
     },
     "execution_count": 4,
     "metadata": {},
     "output_type": "execute_result"
    }
   ],
   "source": [
    "data.head(2)"
   ]
  },
  {
   "cell_type": "code",
   "execution_count": 3,
   "id": "4fec553d-03f8-4017-baeb-cbb2375e88a9",
   "metadata": {},
   "outputs": [
    {
     "name": "stdout",
     "output_type": "stream",
     "text": [
      "<class 'pandas.core.frame.DataFrame'>\n",
      "RangeIndex: 891 entries, 0 to 890\n",
      "Data columns (total 12 columns):\n",
      " #   Column       Non-Null Count  Dtype  \n",
      "---  ------       --------------  -----  \n",
      " 0   PassengerId  891 non-null    int64  \n",
      " 1   Survived     891 non-null    int64  \n",
      " 2   Pclass       891 non-null    int64  \n",
      " 3   Name         891 non-null    object \n",
      " 4   Sex          891 non-null    object \n",
      " 5   Age          714 non-null    float64\n",
      " 6   SibSp        891 non-null    int64  \n",
      " 7   Parch        891 non-null    int64  \n",
      " 8   Ticket       891 non-null    object \n",
      " 9   Fare         891 non-null    float64\n",
      " 10  Cabin        204 non-null    object \n",
      " 11  Embarked     889 non-null    object \n",
      "dtypes: float64(2), int64(5), object(5)\n",
      "memory usage: 83.7+ KB\n"
     ]
    }
   ],
   "source": [
    "data.info()"
   ]
  },
  {
   "cell_type": "code",
   "execution_count": 5,
   "id": "8fa60f30-2740-477e-bdc0-4139eebba0f1",
   "metadata": {},
   "outputs": [
    {
     "data": {
      "text/plain": [
       "Sex   \n",
       "female    233\n",
       "male      109\n",
       "Name: count, dtype: int64"
      ]
     },
     "execution_count": 5,
     "metadata": {},
     "output_type": "execute_result"
    }
   ],
   "source": [
    "\n",
    "table"
   ]
  },
  {
   "cell_type": "markdown",
   "id": "09b8f362-fd0c-408d-9d44-082cbf3f03c8",
   "metadata": {},
   "source": [
    "#### 적합성 검정"
   ]
  },
  {
   "cell_type": "code",
   "execution_count": 9,
   "id": "43a58de4-a0d2-4b16-ade7-f2ca38e3c22d",
   "metadata": {},
   "outputs": [
    {
     "name": "stdout",
     "output_type": "stream",
     "text": [
      "적합도 검정 :  Power_divergenceResult(statistic=44.95906432748538, pvalue=2.0119672574477235e-11)\n",
      "대립가설 채택\n"
     ]
    }
   ],
   "source": [
    "# 귀무가설 : 남자여자 생존비율은 50:50이라고 할수 있다\n",
    "# 대립가설 : 남자여자 생존비율은 50:50이라고 할수 없다.\n",
    "df_t = data[data['Survived']==1]\n",
    "table = df_t[['Sex']].value_counts()\n",
    "#유의수준 0.05로 적합도 검정 수행\n",
    "from scipy.stats import chisquare\n",
    "chi = chisquare(table, f_exp=[171,171])\n",
    "print('적합도 검정 : ', chi)\n",
    "if chi[1]<0.05:\n",
    "    print('대립가설 채택')\n",
    "else:\n",
    "    print('귀무가설 채택')"
   ]
  },
  {
   "cell_type": "markdown",
   "id": "62bc6ace-da49-402a-827d-d36c6e2bfe05",
   "metadata": {},
   "source": [
    "#### 독립성 검정"
   ]
  },
  {
   "cell_type": "code",
   "execution_count": 12,
   "id": "dc5b5f64-874b-4114-9e84-28c5e48146a1",
   "metadata": {},
   "outputs": [
    {
     "name": "stdout",
     "output_type": "stream",
     "text": [
      "독립성 검정 p-value:  4.549251711298793e-23\n",
      "대립가설 채택\n"
     ]
    }
   ],
   "source": [
    "# 귀무가설 : a변수와 b변수는 독립이다. \n",
    "# 대립가설 : a변수와 b변수는 별개이다.\n",
    "table = pd.crosstab(data['Pclass'],data['Survived'])\n",
    "#유의수준 0.05로 적합도 검정 수행\n",
    "from scipy.stats import chi2_contingency\n",
    "chi, p, df, expect = chi2_contingency(table)\n",
    "print('독립성 검정 p-value: ', p)\n",
    "if p<0.05:\n",
    "    print('대립가설 채택')\n",
    "else:\n",
    "    print('귀무가설 채택')"
   ]
  },
  {
   "cell_type": "code",
   "execution_count": 13,
   "id": "ef095590-56ab-4e3a-9219-6983741cbe0b",
   "metadata": {},
   "outputs": [
    {
     "name": "stdout",
     "output_type": "stream",
     "text": [
      "독립성 검정 p-value:  4.549251711298793e-23\n",
      "대립가설 채택\n"
     ]
    }
   ],
   "source": [
    "# 귀무가설 : a변수와 b변수는 관계없이 동일하다.\n",
    "# 대립가설 : a변수와 b변수는 관계없이 동일하지 않다.\n",
    "table = pd.crosstab(data['Pclass'],data['Survived'])\n",
    "#유의수준 0.05로 적합도 검정 수행\n",
    "from scipy.stats import chi2_contingency\n",
    "chi, p, df, expect = chi2_contingency(table)\n",
    "print('독립성 검정 p-value: ', p)\n",
    "if p<0.05:\n",
    "    print('대립가설 채택')\n",
    "else:\n",
    "    print('귀무가설 채택')"
   ]
  },
  {
   "cell_type": "code",
   "execution_count": null,
   "id": "0e892505-9898-47cf-8dcf-0ed56a2201f3",
   "metadata": {},
   "outputs": [],
   "source": []
  },
  {
   "cell_type": "code",
   "execution_count": null,
   "id": "505e22bf-1818-4cb7-894f-69d56553f7c7",
   "metadata": {},
   "outputs": [],
   "source": []
  }
 ],
 "metadata": {
  "kernelspec": {
   "display_name": "Python 3 (ipykernel)",
   "language": "python",
   "name": "python3"
  },
  "language_info": {
   "codemirror_mode": {
    "name": "ipython",
    "version": 3
   },
   "file_extension": ".py",
   "mimetype": "text/x-python",
   "name": "python",
   "nbconvert_exporter": "python",
   "pygments_lexer": "ipython3",
   "version": "3.11.8"
  }
 },
 "nbformat": 4,
 "nbformat_minor": 5
}
