{
 "cells": [
  {
   "cell_type": "code",
   "execution_count": 1,
   "id": "ae3f7252-a6d0-45ee-9f7d-964a9b9b2789",
   "metadata": {},
   "outputs": [],
   "source": [
    "import pandas as pd\n",
    "import anal_preprocess as ap\n",
    "import seaborn as sns\n",
    "import matplotlib.pyplot as plt\n",
    "pd.set_option('display.max_columns', None)\n",
    "#df = pd.read_csv('./student-mat.csv')\n",
    "df = pd.read_csv('./diabetes.csv')\n",
    "input_data = df.drop(columns=['Outcome'])\n",
    "#df['grade'] = df['G1'].values + df['G2'].values + df['G3'].values \n",
    "#input_data = df.drop(columns=['grade'])"
   ]
  },
  {
   "cell_type": "code",
   "execution_count": 2,
   "id": "12c3cf12-0005-4c2d-b68f-0905ae41abce",
   "metadata": {},
   "outputs": [
    {
     "name": "stdout",
     "output_type": "stream",
     "text": [
      "ShapiroResult(statistic=0.6025138190827578, pvalue=1.2926899738528582e-38)\n",
      "본 결측치 체크는 연속형 변수에 대하여 진행합니다.\n",
      "결측치 데이터 컬럼 없음!\n",
      "Index(['Pregnancies', 'Glucose', 'BloodPressure', 'SkinThickness', 'Insulin',\n",
      "       'BMI', 'DiabetesPedigreeFunction', 'Age'],\n",
      "      dtype='object')\n",
      "이상치를 결측치로 대체한 후 KNN 방식으로 대체 ... 2차결측치 검증 진행\n",
      "본 결측치 체크는 연속형 변수에 대하여 진행합니다.\n",
      "결측치 데이터 컬럼 : 7개, ['Pregnancies', 'BloodPressure', 'SkinThickness', 'Insulin', 'BMI', 'DiabetesPedigreeFunction', 'Age'] \n",
      "Pregnancies                  4\n",
      "Glucose                      0\n",
      "BloodPressure                7\n",
      "SkinThickness                1\n",
      "Insulin                     34\n",
      "BMI                          8\n",
      "DiabetesPedigreeFunction    29\n",
      "Age                          9\n",
      "dtype: int64\n",
      "KNN 알고리즘 대체\n",
      "결측치 대체 후 검정 결측치 컬럼갯수 : 0 \n",
      "본 결측치 체크는 연속형 변수에 대하여 진행합니다.\n",
      "결측치 데이터 컬럼 없음!\n"
     ]
    }
   ],
   "source": [
    "dp = ap.DataProcess(input_data, df)\n",
    "dp.shapiro('Outcome')\n",
    "dp.extract_numeric_categoy_cols()\n",
    "numeric_data = dp.nemeric_check_cols()\n",
    "dp.numeric_correlation_cols\n",
    "dp.category_preprocess()\n",
    "category_data, ctg_data = dp.category_tranformed_numeric()"
   ]
  },
  {
   "cell_type": "code",
   "execution_count": 3,
   "id": "4a81d22d-a6dc-4424-b559-90fd510d8b2a",
   "metadata": {},
   "outputs": [
    {
     "data": {
      "text/plain": [
       "0"
      ]
     },
     "execution_count": 3,
     "metadata": {},
     "output_type": "execute_result"
    }
   ],
   "source": [
    "catg = ctg_data.columns\n",
    "ori_catg = input_data.columns\n",
    "intersection_catg = catg.intersection(ori_catg)\n",
    "catg_subplot = ctg_data[intersection_catg]"
   ]
  },
  {
   "cell_type": "code",
   "execution_count": 6,
   "id": "98011ad9-443b-41d0-a706-336ac71b7e39",
   "metadata": {},
   "outputs": [
    {
     "data": {
      "text/plain": [
       "'\\nfig, axes = plt.subplots(2,9, figsize=(20,14))\\nfor i in range(9):\\n    sns.barplot(catg_subplot.index, catg_subplot.iloc[:,i], ax=axes[0][i])\\n    axes[0][i].set_title(catg_subplot.columns[i])\\nfor i in range(9):\\n    sns.barplot(catg_subplot.index, catg_subplot.iloc[:,i+9], ax=axes[1][i])\\n    axes[1][i].set_title(catg_subplot.columns[i+9])\\n'"
      ]
     },
     "execution_count": 6,
     "metadata": {},
     "output_type": "execute_result"
    }
   ],
   "source": [
    "# 0과 1에 대한 바차트\n",
    "'''\n",
    "fig, axes = plt.subplots(2,9, figsize=(20,14))\n",
    "for i in range(9):\n",
    "    sns.barplot(catg_subplot.index, catg_subplot.iloc[:,i], ax=axes[0][i])\n",
    "    axes[0][i].set_title(catg_subplot.columns[i])\n",
    "for i in range(9):\n",
    "    sns.barplot(catg_subplot.index, catg_subplot.iloc[:,i+9], ax=axes[1][i])\n",
    "    axes[1][i].set_title(catg_subplot.columns[i+9])\n",
    "'''"
   ]
  },
  {
   "cell_type": "code",
   "execution_count": 7,
   "id": "e7fb4e05-0399-414b-976b-f509b562dc31",
   "metadata": {},
   "outputs": [
    {
     "data": {
      "text/plain": [
       "0"
      ]
     },
     "execution_count": 7,
     "metadata": {},
     "output_type": "execute_result"
    }
   ],
   "source": [
    "len(intersection_catg)"
   ]
  },
  {
   "cell_type": "code",
   "execution_count": 8,
   "id": "02db1dca-6cc9-4751-8ea5-5a6350a86973",
   "metadata": {},
   "outputs": [
    {
     "data": {
      "text/plain": [
       "'\\nfig, axs = plt.subplots(2,9)\\nfor i in range(9):\\n    axs[0][i].bar(df[intersection_catg[i]].value_counts().index, df[intersection_catg[i]].value_counts())\\nfor j in range(9):\\n    if j < 7:\\n        print(j)\\n        axs[1][i].bar(df[intersection_catg[i+9]].value_counts().index, df[intersection_catg[i+9]].value_counts())\\n    else:\\n        pass\\n'"
      ]
     },
     "execution_count": 8,
     "metadata": {},
     "output_type": "execute_result"
    }
   ],
   "source": [
    "# 일반 바차트\n",
    "'''\n",
    "fig, axs = plt.subplots(2,9)\n",
    "for i in range(9):\n",
    "    axs[0][i].bar(df[intersection_catg[i]].value_counts().index, df[intersection_catg[i]].value_counts())\n",
    "for j in range(9):\n",
    "    if j < 7:\n",
    "        print(j)\n",
    "        axs[1][i].bar(df[intersection_catg[i+9]].value_counts().index, df[intersection_catg[i+9]].value_counts())\n",
    "    else:\n",
    "        pass\n",
    "'''"
   ]
  },
  {
   "cell_type": "code",
   "execution_count": null,
   "id": "f2582639-6441-42c4-b7d4-688ac1b2bc09",
   "metadata": {},
   "outputs": [],
   "source": []
  },
  {
   "cell_type": "code",
   "execution_count": null,
   "id": "d4051d59-942a-49b0-880b-d0551722a1f7",
   "metadata": {},
   "outputs": [],
   "source": []
  },
  {
   "cell_type": "code",
   "execution_count": null,
   "id": "a0e807fe-73e2-4ee8-890a-d26cc0325249",
   "metadata": {},
   "outputs": [],
   "source": []
  },
  {
   "cell_type": "code",
   "execution_count": null,
   "id": "6042e3d9-2417-46cd-9369-d38bc8d46722",
   "metadata": {},
   "outputs": [],
   "source": []
  },
  {
   "cell_type": "code",
   "execution_count": null,
   "id": "7fc12989-9627-4ad7-9776-ed1f558fb7e8",
   "metadata": {},
   "outputs": [],
   "source": []
  },
  {
   "cell_type": "code",
   "execution_count": null,
   "id": "a3a056b8-f7a4-4457-add8-e9d07bfb06f6",
   "metadata": {},
   "outputs": [],
   "source": []
  },
  {
   "cell_type": "code",
   "execution_count": null,
   "id": "c286239c-645c-4d78-afc6-5e1e9fcb1f0a",
   "metadata": {},
   "outputs": [],
   "source": []
  },
  {
   "cell_type": "code",
   "execution_count": null,
   "id": "0b37eef0-0f99-4fc1-97db-c4977641cffa",
   "metadata": {},
   "outputs": [],
   "source": []
  },
  {
   "cell_type": "code",
   "execution_count": 9,
   "id": "af2b03e2-b8f7-4929-8830-38c78f6cdc48",
   "metadata": {},
   "outputs": [
    {
     "ename": "NameError",
     "evalue": "name 'utils_null' is not defined",
     "output_type": "error",
     "traceback": [
      "\u001b[0;31m---------------------------------------------------------------------------\u001b[0m",
      "\u001b[0;31mNameError\u001b[0m                                 Traceback (most recent call last)",
      "Cell \u001b[0;32mIn[9], line 2\u001b[0m\n\u001b[1;32m      1\u001b[0m \u001b[38;5;66;03m# 1차결측치 검증\u001b[39;00m\n\u001b[0;32m----> 2\u001b[0m ncs_cat \u001b[38;5;241m=\u001b[39m \u001b[43mutils_null\u001b[49m\u001b[38;5;241m.\u001b[39mNullCheckSubstitution(null_catg_df)\n\u001b[1;32m      3\u001b[0m null_cat_df_check \u001b[38;5;241m=\u001b[39m ncs_cat\u001b[38;5;241m.\u001b[39mnull_check()\n\u001b[1;32m      4\u001b[0m null_cat_df_check \u001b[38;5;241m=\u001b[39m null_cat_df_check\u001b[38;5;241m.\u001b[39mround(\u001b[38;5;241m0\u001b[39m)\n",
      "\u001b[0;31mNameError\u001b[0m: name 'utils_null' is not defined"
     ]
    }
   ],
   "source": [
    "# 1차결측치 검증\n",
    "ncs_cat = utils_null.NullCheckSubstitution(null_catg_df)\n",
    "null_cat_df_check = ncs_cat.null_check()\n",
    "null_cat_df_check = null_cat_df_check.round(0)\n",
    "# knn 대체 기준 값으로 기존 'null_check' 대응하는 기존 값을 삭제하고 기준 값으로 대체한다.\n",
    "for col in null_cols_encd:\n",
    "    cat_df[col] = null_cat_df_check[col].values\n",
    "    trf_cat_df[col] = null_cat_df_check[col].values\n",
    "# 매칭을 통해서 범주형을 채운다.\n",
    "length = len(null_cols_encd)\n",
    "for i in range(length):\n",
    "    cat_df[null_cols[i]] = cat_df[null_cols_encd[i]].map(ls_zip[i])"
   ]
  },
  {
   "cell_type": "code",
   "execution_count": null,
   "id": "56d79e44-53ed-4c6a-ac7f-3a20bb5a77ee",
   "metadata": {},
   "outputs": [],
   "source": [
    "catgory_df_completed = trf_cat_df.round(0)"
   ]
  },
  {
   "cell_type": "code",
   "execution_count": null,
   "id": "47a99870-648d-4093-8982-55d7d9f5025b",
   "metadata": {},
   "outputs": [],
   "source": [
    "all_numeric_trf_df = pd.concat([numeric_df_completed, catgory_df_completed], axis=1)\n",
    "all_numeric_trf_df"
   ]
  },
  {
   "cell_type": "code",
   "execution_count": null,
   "id": "1f962319-3d86-426d-b48f-08ec8e4aa6fe",
   "metadata": {},
   "outputs": [],
   "source": []
  }
 ],
 "metadata": {
  "kernelspec": {
   "display_name": "Python 3 (ipykernel)",
   "language": "python",
   "name": "python3"
  },
  "language_info": {
   "codemirror_mode": {
    "name": "ipython",
    "version": 3
   },
   "file_extension": ".py",
   "mimetype": "text/x-python",
   "name": "python",
   "nbconvert_exporter": "python",
   "pygments_lexer": "ipython3",
   "version": "3.11.8"
  }
 },
 "nbformat": 4,
 "nbformat_minor": 5
}
