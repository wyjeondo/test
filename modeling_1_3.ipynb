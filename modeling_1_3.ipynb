{
 "cells": [
  {
   "cell_type": "code",
   "execution_count": 1,
   "id": "ae3f7252-a6d0-45ee-9f7d-964a9b9b2789",
   "metadata": {},
   "outputs": [],
   "source": [
    "import pandas as pd\n",
    "import anal_preprocess as ap\n",
    "pd.set_option('display.max_columns', None)\n",
    "df = pd.read_csv('./student-mat.csv')\n",
    "df['grade'] = df['G1'].values + df['G2'].values + df['G3'].values \n",
    "input_data = df.drop(columns=['grade'])"
   ]
  },
  {
   "cell_type": "code",
   "execution_count": 2,
   "id": "12c3cf12-0005-4c2d-b68f-0905ae41abce",
   "metadata": {},
   "outputs": [
    {
     "name": "stdout",
     "output_type": "stream",
     "text": [
      "ShapiroResult(statistic=0.9926792337421895, pvalue=0.05052375511183993)\n",
      "본 결측치 체크는 연속형 변수에 대하여 진행합니다.\n",
      "결측치 데이터 컬럼 없음!\n",
      "Index(['age', 'Medu', 'Fedu', 'traveltime', 'studytime', 'failures', 'famrel',\n",
      "       'freetime', 'goout', 'Dalc', 'Walc', 'health', 'absences', 'G1', 'G2',\n",
      "       'G3'],\n",
      "      dtype='object')\n",
      "이상치를 결측치로 대체한 후 KNN 방식으로 대체 ... 2차결측치 검증 진행\n",
      "본 결측치 체크는 연속형 변수에 대하여 진행합니다.\n",
      "결측치 데이터 컬럼 : 6개, ['age', 'traveltime', 'studytime', 'failures', 'Dalc', 'absences'] \n",
      "age            1\n",
      "Medu           0\n",
      "Fedu           0\n",
      "traveltime     8\n",
      "studytime     27\n",
      "failures      83\n",
      "famrel         0\n",
      "freetime       0\n",
      "goout          0\n",
      "Dalc          18\n",
      "Walc           0\n",
      "health         0\n",
      "absences      15\n",
      "G1             0\n",
      "G2             0\n",
      "G3             0\n",
      "dtype: int64\n",
      "KNN 알고리즘 대체\n",
      "결측치 대체 후 검정 결측치 컬럼갯수 : 0 \n",
      "본 결측치 체크는 연속형 변수에 대하여 진행합니다.\n",
      "결측치 데이터 컬럼 : 4개, ['guardian_encd', 'Mjob_encd', 'reason_encd', 'Fjob_encd'] \n",
      "guardian_encd    2\n",
      "Mjob_encd        2\n",
      "reason_encd      3\n",
      "Fjob_encd        3\n",
      "dtype: int64\n",
      "KNN 알고리즘 대체\n",
      "결측치 대체 후 검정 결측치 컬럼갯수 : 0 \n"
     ]
    }
   ],
   "source": [
    "dp = ap.DataProcess(input_data, df)\n",
    "dp.shapiro()\n",
    "dp.extract_numeric_categoy_cols()\n",
    "numeric_data = dp.nemeric_check_cols()\n",
    "dp.numeric_correlation_cols\n",
    "dp.category_preprocess()\n",
    "category_data, ctg_data = dp.category_tranformed_numeric()"
   ]
  },
  {
   "cell_type": "code",
   "execution_count": 11,
   "id": "4a81d22d-a6dc-4424-b559-90fd510d8b2a",
   "metadata": {},
   "outputs": [
    {
     "data": {
      "text/plain": [
       "17"
      ]
     },
     "execution_count": 11,
     "metadata": {},
     "output_type": "execute_result"
    }
   ],
   "source": [
    "catg = ctg_data.columns\n",
    "ori_catg = input_data.columns\n",
    "intersection_catg = catg.intersection(ori_catg)\n",
    "len(intersection_catg)"
   ]
  },
  {
   "cell_type": "code",
   "execution_count": 15,
   "id": "335cbc00-751f-4eb6-bd19-bffb7838aa01",
   "metadata": {},
   "outputs": [
    {
     "data": {
      "text/plain": [
       "Index(['famsup', 'schoolsup', 'guardian', 'sex', 'Mjob', 'Pstatus', 'reason',\n",
       "       'paid', 'higher', 'famsize', 'school', 'address', 'Fjob', 'nursery',\n",
       "       'internet', 'romantic', 'activities'],\n",
       "      dtype='object')"
      ]
     },
     "execution_count": 15,
     "metadata": {},
     "output_type": "execute_result"
    }
   ],
   "source": []
  },
  {
   "cell_type": "code",
   "execution_count": 17,
   "id": "3dc859bd-4141-45d8-9dba-b6f793e3b215",
   "metadata": {},
   "outputs": [],
   "source": [
    "catg_subplot = ctg_data[intersection_catg]\n",
    "import seaborn as sns\n",
    "import matplotlib.pyplot as plt"
   ]
  },
  {
   "cell_type": "code",
   "execution_count": 19,
   "id": "8de0e407-275f-4018-b243-fbce6a5d2dbb",
   "metadata": {},
   "outputs": [
    {
     "data": {
      "text/html": [
       "<div>\n",
       "<style scoped>\n",
       "    .dataframe tbody tr th:only-of-type {\n",
       "        vertical-align: middle;\n",
       "    }\n",
       "\n",
       "    .dataframe tbody tr th {\n",
       "        vertical-align: top;\n",
       "    }\n",
       "\n",
       "    .dataframe thead th {\n",
       "        text-align: right;\n",
       "    }\n",
       "</style>\n",
       "<table border=\"1\" class=\"dataframe\">\n",
       "  <thead>\n",
       "    <tr style=\"text-align: right;\">\n",
       "      <th></th>\n",
       "      <th>famsup</th>\n",
       "      <th>schoolsup</th>\n",
       "      <th>guardian</th>\n",
       "      <th>sex</th>\n",
       "      <th>Mjob</th>\n",
       "      <th>Pstatus</th>\n",
       "      <th>reason</th>\n",
       "      <th>paid</th>\n",
       "      <th>higher</th>\n",
       "      <th>famsize</th>\n",
       "      <th>school</th>\n",
       "      <th>address</th>\n",
       "      <th>Fjob</th>\n",
       "      <th>nursery</th>\n",
       "      <th>internet</th>\n",
       "      <th>romantic</th>\n",
       "      <th>activities</th>\n",
       "    </tr>\n",
       "  </thead>\n",
       "  <tbody>\n",
       "    <tr>\n",
       "      <th>0</th>\n",
       "      <td>no</td>\n",
       "      <td>yes</td>\n",
       "      <td>mother</td>\n",
       "      <td>F</td>\n",
       "      <td>at_home</td>\n",
       "      <td>A</td>\n",
       "      <td>course</td>\n",
       "      <td>no</td>\n",
       "      <td>yes</td>\n",
       "      <td>GT3</td>\n",
       "      <td>GP</td>\n",
       "      <td>U</td>\n",
       "      <td>teacher</td>\n",
       "      <td>yes</td>\n",
       "      <td>no</td>\n",
       "      <td>no</td>\n",
       "      <td>no</td>\n",
       "    </tr>\n",
       "    <tr>\n",
       "      <th>1</th>\n",
       "      <td>yes</td>\n",
       "      <td>no</td>\n",
       "      <td>mother</td>\n",
       "      <td>F</td>\n",
       "      <td>at_home</td>\n",
       "      <td>T</td>\n",
       "      <td>course</td>\n",
       "      <td>no</td>\n",
       "      <td>yes</td>\n",
       "      <td>GT3</td>\n",
       "      <td>GP</td>\n",
       "      <td>U</td>\n",
       "      <td>other</td>\n",
       "      <td>no</td>\n",
       "      <td>yes</td>\n",
       "      <td>no</td>\n",
       "      <td>no</td>\n",
       "    </tr>\n",
       "    <tr>\n",
       "      <th>2</th>\n",
       "      <td>no</td>\n",
       "      <td>yes</td>\n",
       "      <td>mother</td>\n",
       "      <td>F</td>\n",
       "      <td>at_home</td>\n",
       "      <td>T</td>\n",
       "      <td>home</td>\n",
       "      <td>yes</td>\n",
       "      <td>yes</td>\n",
       "      <td>LE3</td>\n",
       "      <td>GP</td>\n",
       "      <td>U</td>\n",
       "      <td>other</td>\n",
       "      <td>yes</td>\n",
       "      <td>yes</td>\n",
       "      <td>no</td>\n",
       "      <td>no</td>\n",
       "    </tr>\n",
       "    <tr>\n",
       "      <th>3</th>\n",
       "      <td>yes</td>\n",
       "      <td>no</td>\n",
       "      <td>mother</td>\n",
       "      <td>F</td>\n",
       "      <td>health</td>\n",
       "      <td>T</td>\n",
       "      <td>home</td>\n",
       "      <td>yes</td>\n",
       "      <td>yes</td>\n",
       "      <td>GT3</td>\n",
       "      <td>GP</td>\n",
       "      <td>U</td>\n",
       "      <td>other</td>\n",
       "      <td>yes</td>\n",
       "      <td>yes</td>\n",
       "      <td>yes</td>\n",
       "      <td>yes</td>\n",
       "    </tr>\n",
       "    <tr>\n",
       "      <th>4</th>\n",
       "      <td>yes</td>\n",
       "      <td>no</td>\n",
       "      <td>father</td>\n",
       "      <td>F</td>\n",
       "      <td>other</td>\n",
       "      <td>T</td>\n",
       "      <td>home</td>\n",
       "      <td>yes</td>\n",
       "      <td>yes</td>\n",
       "      <td>GT3</td>\n",
       "      <td>GP</td>\n",
       "      <td>U</td>\n",
       "      <td>other</td>\n",
       "      <td>yes</td>\n",
       "      <td>no</td>\n",
       "      <td>no</td>\n",
       "      <td>no</td>\n",
       "    </tr>\n",
       "  </tbody>\n",
       "</table>\n",
       "</div>"
      ],
      "text/plain": [
       "  famsup schoolsup guardian sex     Mjob Pstatus  reason paid higher famsize  \\\n",
       "0     no       yes   mother   F  at_home       A  course   no    yes     GT3   \n",
       "1    yes        no   mother   F  at_home       T  course   no    yes     GT3   \n",
       "2     no       yes   mother   F  at_home       T    home  yes    yes     LE3   \n",
       "3    yes        no   mother   F   health       T    home  yes    yes     GT3   \n",
       "4    yes        no   father   F    other       T    home  yes    yes     GT3   \n",
       "\n",
       "  school address     Fjob nursery internet romantic activities  \n",
       "0     GP       U  teacher     yes       no       no         no  \n",
       "1     GP       U    other      no      yes       no         no  \n",
       "2     GP       U    other     yes      yes       no         no  \n",
       "3     GP       U    other     yes      yes      yes        yes  \n",
       "4     GP       U    other     yes       no       no         no  "
      ]
     },
     "execution_count": 19,
     "metadata": {},
     "output_type": "execute_result"
    }
   ],
   "source": [
    "catg_subplot.head()"
   ]
  },
  {
   "cell_type": "code",
   "execution_count": 26,
   "id": "98011ad9-443b-41d0-a706-336ac71b7e39",
   "metadata": {},
   "outputs": [
    {
     "data": {
      "text/plain": [
       "'\\nfig, axes = plt.subplots(2,9, figsize=(20,14))\\nfor i in range(9):\\n    sns.barplot(catg_subplot.index, catg_subplot.iloc[:,i], ax=axes[0][i])\\n    axes[0][i].set_title(catg_subplot.columns[i])\\nfor i in range(9):\\n    sns.barplot(catg_subplot.index, catg_subplot.iloc[:,i+9], ax=axes[1][i])\\n    axes[1][i].set_title(catg_subplot.columns[i+9])\\n'"
      ]
     },
     "execution_count": 26,
     "metadata": {},
     "output_type": "execute_result"
    }
   ],
   "source": [
    "# 0과 1에 대한 바차트\n",
    "'''\n",
    "fig, axes = plt.subplots(2,9, figsize=(20,14))\n",
    "for i in range(9):\n",
    "    sns.barplot(catg_subplot.index, catg_subplot.iloc[:,i], ax=axes[0][i])\n",
    "    axes[0][i].set_title(catg_subplot.columns[i])\n",
    "for i in range(9):\n",
    "    sns.barplot(catg_subplot.index, catg_subplot.iloc[:,i+9], ax=axes[1][i])\n",
    "    axes[1][i].set_title(catg_subplot.columns[i+9])\n",
    "'''"
   ]
  },
  {
   "cell_type": "code",
   "execution_count": 30,
   "id": "e7fb4e05-0399-414b-976b-f509b562dc31",
   "metadata": {},
   "outputs": [
    {
     "data": {
      "text/plain": [
       "'famsup'"
      ]
     },
     "execution_count": 30,
     "metadata": {},
     "output_type": "execute_result"
    }
   ],
   "source": [
    "intersection_catg[i]"
   ]
  },
  {
   "cell_type": "code",
   "execution_count": 33,
   "id": "02db1dca-6cc9-4751-8ea5-5a6350a86973",
   "metadata": {},
   "outputs": [
    {
     "ename": "IndexError",
     "evalue": "index 17 is out of bounds for axis 0 with size 17",
     "output_type": "error",
     "traceback": [
      "\u001b[0;31m---------------------------------------------------------------------------\u001b[0m",
      "\u001b[0;31mIndexError\u001b[0m                                Traceback (most recent call last)",
      "Cell \u001b[0;32mIn[33], line 7\u001b[0m\n\u001b[1;32m      5\u001b[0m \u001b[38;5;28;01mfor\u001b[39;00m j \u001b[38;5;129;01min\u001b[39;00m \u001b[38;5;28mrange\u001b[39m(\u001b[38;5;241m9\u001b[39m):\n\u001b[1;32m      6\u001b[0m     \u001b[38;5;28;01mif\u001b[39;00m j \u001b[38;5;241m<\u001b[39m \u001b[38;5;241m8\u001b[39m:\n\u001b[0;32m----> 7\u001b[0m         axs[\u001b[38;5;241m1\u001b[39m][i]\u001b[38;5;241m.\u001b[39mbar(df[\u001b[43mintersection_catg\u001b[49m\u001b[43m[\u001b[49m\u001b[43mi\u001b[49m\u001b[38;5;241;43m+\u001b[39;49m\u001b[38;5;241;43m9\u001b[39;49m\u001b[43m]\u001b[49m]\u001b[38;5;241m.\u001b[39mvalue_counts()\u001b[38;5;241m.\u001b[39mindex, df[intersection_catg[i\u001b[38;5;241m+\u001b[39m\u001b[38;5;241m9\u001b[39m]]\u001b[38;5;241m.\u001b[39mvalue_counts())\n\u001b[1;32m      8\u001b[0m     \u001b[38;5;28;01melse\u001b[39;00m:\n\u001b[1;32m      9\u001b[0m         \u001b[38;5;28;01mpass\u001b[39;00m\n",
      "File \u001b[0;32m/Library/Frameworks/Python.framework/Versions/3.11/lib/python3.11/site-packages/pandas/core/indexes/base.py:5389\u001b[0m, in \u001b[0;36mIndex.__getitem__\u001b[0;34m(self, key)\u001b[0m\n\u001b[1;32m   5386\u001b[0m \u001b[38;5;28;01mif\u001b[39;00m is_integer(key) \u001b[38;5;129;01mor\u001b[39;00m is_float(key):\n\u001b[1;32m   5387\u001b[0m     \u001b[38;5;66;03m# GH#44051 exclude bool, which would return a 2d ndarray\u001b[39;00m\n\u001b[1;32m   5388\u001b[0m     key \u001b[38;5;241m=\u001b[39m com\u001b[38;5;241m.\u001b[39mcast_scalar_indexer(key)\n\u001b[0;32m-> 5389\u001b[0m     \u001b[38;5;28;01mreturn\u001b[39;00m \u001b[43mgetitem\u001b[49m\u001b[43m(\u001b[49m\u001b[43mkey\u001b[49m\u001b[43m)\u001b[49m\n\u001b[1;32m   5391\u001b[0m \u001b[38;5;28;01mif\u001b[39;00m \u001b[38;5;28misinstance\u001b[39m(key, \u001b[38;5;28mslice\u001b[39m):\n\u001b[1;32m   5392\u001b[0m     \u001b[38;5;66;03m# This case is separated from the conditional above to avoid\u001b[39;00m\n\u001b[1;32m   5393\u001b[0m     \u001b[38;5;66;03m# pessimization com.is_bool_indexer and ndim checks.\u001b[39;00m\n\u001b[1;32m   5394\u001b[0m     \u001b[38;5;28;01mreturn\u001b[39;00m \u001b[38;5;28mself\u001b[39m\u001b[38;5;241m.\u001b[39m_getitem_slice(key)\n",
      "\u001b[0;31mIndexError\u001b[0m: index 17 is out of bounds for axis 0 with size 17"
     ]
    },
    {
     "data": {
      "image/png": "[encoded data removed]",
      "text/plain": [
       "<Figure size 640x480 with 18 Axes>"
      ]
     },
     "metadata": {},
     "output_type": "display_data"
    }
   ],
   "source": [
    "# 일반 바차트\n",
    "fig, axs = plt.subplots(2,9)\n",
    "for i in range(9):\n",
    "    axs[0][i].bar(df[intersection_catg[i]].value_counts().index, df[intersection_catg[i]].value_counts())\n",
    "for j in range(9):\n",
    "    if j < 8:\n",
    "        axs[1][i].bar(df[intersection_catg[i+9]].value_counts().index, df[intersection_catg[i+9]].value_counts())\n",
    "    else:\n",
    "        pass"
   ]
  },
  {
   "cell_type": "code",
   "execution_count": null,
   "id": "f2582639-6441-42c4-b7d4-688ac1b2bc09",
   "metadata": {},
   "outputs": [],
   "source": []
  },
  {
   "cell_type": "code",
   "execution_count": null,
   "id": "d4051d59-942a-49b0-880b-d0551722a1f7",
   "metadata": {},
   "outputs": [],
   "source": []
  },
  {
   "cell_type": "code",
   "execution_count": null,
   "id": "a0e807fe-73e2-4ee8-890a-d26cc0325249",
   "metadata": {},
   "outputs": [],
   "source": []
  },
  {
   "cell_type": "code",
   "execution_count": null,
   "id": "6042e3d9-2417-46cd-9369-d38bc8d46722",
   "metadata": {},
   "outputs": [],
   "source": []
  },
  {
   "cell_type": "code",
   "execution_count": null,
   "id": "7fc12989-9627-4ad7-9776-ed1f558fb7e8",
   "metadata": {},
   "outputs": [],
   "source": []
  },
  {
   "cell_type": "code",
   "execution_count": null,
   "id": "a3a056b8-f7a4-4457-add8-e9d07bfb06f6",
   "metadata": {},
   "outputs": [],
   "source": []
  },
  {
   "cell_type": "code",
   "execution_count": null,
   "id": "c286239c-645c-4d78-afc6-5e1e9fcb1f0a",
   "metadata": {},
   "outputs": [],
   "source": []
  },
  {
   "cell_type": "code",
   "execution_count": null,
   "id": "0b37eef0-0f99-4fc1-97db-c4977641cffa",
   "metadata": {},
   "outputs": [],
   "source": []
  },
  {
   "cell_type": "code",
   "execution_count": 6,
   "id": "af2b03e2-b8f7-4929-8830-38c78f6cdc48",
   "metadata": {},
   "outputs": [
    {
     "ename": "NameError",
     "evalue": "name 'utils_null' is not defined",
     "output_type": "error",
     "traceback": [
      "\u001b[0;31m---------------------------------------------------------------------------\u001b[0m",
      "\u001b[0;31mNameError\u001b[0m                                 Traceback (most recent call last)",
      "Cell \u001b[0;32mIn[6], line 2\u001b[0m\n\u001b[1;32m      1\u001b[0m \u001b[38;5;66;03m# 1차결측치 검증\u001b[39;00m\n\u001b[0;32m----> 2\u001b[0m ncs_cat \u001b[38;5;241m=\u001b[39m \u001b[43mutils_null\u001b[49m\u001b[38;5;241m.\u001b[39mNullCheckSubstitution(null_catg_df)\n\u001b[1;32m      3\u001b[0m null_cat_df_check \u001b[38;5;241m=\u001b[39m ncs_cat\u001b[38;5;241m.\u001b[39mnull_check()\n\u001b[1;32m      4\u001b[0m null_cat_df_check \u001b[38;5;241m=\u001b[39m null_cat_df_check\u001b[38;5;241m.\u001b[39mround(\u001b[38;5;241m0\u001b[39m)\n",
      "\u001b[0;31mNameError\u001b[0m: name 'utils_null' is not defined"
     ]
    }
   ],
   "source": [
    "# 1차결측치 검증\n",
    "ncs_cat = utils_null.NullCheckSubstitution(null_catg_df)\n",
    "null_cat_df_check = ncs_cat.null_check()\n",
    "null_cat_df_check = null_cat_df_check.round(0)\n",
    "# knn 대체 기준 값으로 기존 'null_check' 대응하는 기존 값을 삭제하고 기준 값으로 대체한다.\n",
    "for col in null_cols_encd:\n",
    "    cat_df[col] = null_cat_df_check[col].values\n",
    "    trf_cat_df[col] = null_cat_df_check[col].values\n",
    "# 매칭을 통해서 범주형을 채운다.\n",
    "length = len(null_cols_encd)\n",
    "for i in range(length):\n",
    "    cat_df[null_cols[i]] = cat_df[null_cols_encd[i]].map(ls_zip[i])"
   ]
  },
  {
   "cell_type": "code",
   "execution_count": null,
   "id": "56d79e44-53ed-4c6a-ac7f-3a20bb5a77ee",
   "metadata": {},
   "outputs": [],
   "source": [
    "catgory_df_completed = trf_cat_df.round(0)"
   ]
  },
  {
   "cell_type": "code",
   "execution_count": null,
   "id": "47a99870-648d-4093-8982-55d7d9f5025b",
   "metadata": {},
   "outputs": [],
   "source": [
    "all_numeric_trf_df = pd.concat([numeric_df_completed, catgory_df_completed], axis=1)\n",
    "all_numeric_trf_df"
   ]
  },
  {
   "cell_type": "code",
   "execution_count": null,
   "id": "1f962319-3d86-426d-b48f-08ec8e4aa6fe",
   "metadata": {},
   "outputs": [],
   "source": []
  }
 ],
 "metadata": {
  "kernelspec": {
   "display_name": "Python 3 (ipykernel)",
   "language": "python",
   "name": "python3"
  },
  "language_info": {
   "codemirror_mode": {
    "name": "ipython",
    "version": 3
   },
   "file_extension": ".py",
   "mimetype": "text/x-python",
   "name": "python",
   "nbconvert_exporter": "python",
   "pygments_lexer": "ipython3",
   "version": "3.11.8"
  }
 },
 "nbformat": 4,
 "nbformat_minor": 5
}
