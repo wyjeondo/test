{
 "cells": [
  {
   "cell_type": "markdown",
   "id": "67626d4e-dc46-4456-9c2e-b4091114566e",
   "metadata": {},
   "source": [
    "## 1. 시계열 데이터 --> 계층적 군집 분석을 위해 덴드로그램 작성"
   ]
  },
  {
   "cell_type": "code",
   "execution_count": null,
   "id": "49984fcd-5659-4dd3-aa8e-2a057432b906",
   "metadata": {},
   "outputs": [],
   "source": [
    "import pandas as pd\n",
    "f_path = \n",
    "df = pd.read_csv(f_path)\n",
    "df.head()\n",
    "\n",
    "col_diff_name = # 제외대상 열 명칭\n",
    "df_diff = df[df.columns.difference(col_diff_name)]"
   ]
  },
  {
   "cell_type": "markdown",
   "id": "6907bdaf-ea99-4aa5-847b-01435910ec27",
   "metadata": {},
   "source": [
    "### ACF distance를 계산한다"
   ]
  },
  {
   "cell_type": "code",
   "execution_count": null,
   "id": "be5f10fc-d16e-4bec-9141-8fa107a31d04",
   "metadata": {},
   "outputs": [],
   "source": [
    "import numpy as np\n",
    "import statsmodels.api as sm\n",
    "import statsmodels.tsa.arima_process import ArmaProcess\n",
    "def acf(x, n_lags):\n",
    "    return sm.tsa.stattools.acf(x, nlags=n_lags)\n",
    "n_lags = len(df_diff)\n",
    "lag_arr = np.repeat(n_lags, df_diff.shape[1])\n",
    "acf_list = list(map(acf, df_diff.transpose().to_numpya(), lag_arr))\n",
    "acf_df = pd.DataFrame(acf_list).transpose()\n",
    "acf_df.columns = df_diff.columns\n",
    "\n",
    "acf_df = acf_df.T\n",
    "acf_df.head()"
   ]
  },
  {
   "cell_type": "markdown",
   "id": "a4503204-3f18-48bf-a138-9ff4e5aa9c72",
   "metadata": {},
   "source": [
    "### 덴드로그램 표현"
   ]
  },
  {
   "cell_type": "code",
   "execution_count": null,
   "id": "ccff9644-5a92-4932-a324-ed57e116661f",
   "metadata": {},
   "outputs": [],
   "source": [
    "import scipy.cluster.hierarchy as sch\n",
    "import matplotlib.pyplot as plt\n",
    "from matplotlib import font_manager, rc\n",
    "\n",
    "plt.figure()\n",
    "label = acf_df.index\n",
    "dend1 = sch.linkage(acf_df, method='average')\n",
    "cutoff=0.5*max(dend1[:,2])\n",
    "dend_res1 = sch.dendrogram(dend1, color_threshold=cutoff, labels=label)\n",
    "plt.show()"
   ]
  },
  {
   "cell_type": "code",
   "execution_count": 3,
   "id": "86b3aa5d-9e71-49b2-814f-1ad0d43da50d",
   "metadata": {},
   "outputs": [
    {
     "data": {
      "text/html": [
       "<div>\n",
       "<style scoped>\n",
       "    .dataframe tbody tr th:only-of-type {\n",
       "        vertical-align: middle;\n",
       "    }\n",
       "\n",
       "    .dataframe tbody tr th {\n",
       "        vertical-align: top;\n",
       "    }\n",
       "\n",
       "    .dataframe thead th {\n",
       "        text-align: right;\n",
       "    }\n",
       "</style>\n",
       "<table border=\"1\" class=\"dataframe\">\n",
       "  <thead>\n",
       "    <tr style=\"text-align: right;\">\n",
       "      <th></th>\n",
       "      <th>society</th>\n",
       "      <th>natuality</th>\n",
       "      <th>engineering</th>\n",
       "    </tr>\n",
       "  </thead>\n",
       "  <tbody>\n",
       "    <tr>\n",
       "      <th>3-4</th>\n",
       "      <td>16</td>\n",
       "      <td>12</td>\n",
       "      <td>18</td>\n",
       "    </tr>\n",
       "    <tr>\n",
       "      <th>2-3</th>\n",
       "      <td>30</td>\n",
       "      <td>20</td>\n",
       "      <td>13</td>\n",
       "    </tr>\n",
       "    <tr>\n",
       "      <th>1-2</th>\n",
       "      <td>12</td>\n",
       "      <td>3</td>\n",
       "      <td>14</td>\n",
       "    </tr>\n",
       "  </tbody>\n",
       "</table>\n",
       "</div>"
      ],
      "text/plain": [
       "     society  natuality  engineering\n",
       "3-4       16         12           18\n",
       "2-3       30         20           13\n",
       "1-2       12          3           14"
      ]
     },
     "execution_count": 3,
     "metadata": {},
     "output_type": "execute_result"
    }
   ],
   "source": [
    "import pandas as pd\n",
    "society = [16,30,12]\n",
    "natuality = [12,20,3]\n",
    "engineering = [18,13,14]\n",
    "table = pd.DataFrame({'society':society, 'natuality':natuality, 'engineering':engineering}, index=['3-4','2-3','1-2'])\n",
    "table"
   ]
  },
  {
   "cell_type": "code",
   "execution_count": 6,
   "id": "1b6a02f9-7753-4c16-9ed4-832e62afd682",
   "metadata": {},
   "outputs": [
    {
     "data": {
      "text/plain": [
       "Chi2ContingencyResult(statistic=10.199441509990177, pvalue=0.03719883770303157, dof=4, expected_freq=array([[19.33333333, 11.66666667, 15.        ],\n",
       "       [26.47826087, 15.97826087, 20.54347826],\n",
       "       [12.1884058 ,  7.35507246,  9.45652174]]))"
      ]
     },
     "execution_count": 6,
     "metadata": {},
     "output_type": "execute_result"
    }
   ],
   "source": [
    "# 독립성 검정을 위한 카이제곱 검정을 수행한다.\n",
    "from scipy import stats\n",
    "stats.chi2_contingency(observed=table)"
   ]
  },
  {
   "cell_type": "code",
   "execution_count": 8,
   "id": "f378b8fd-2728-4483-b97f-78d989d8340a",
   "metadata": {},
   "outputs": [
    {
     "name": "stdout",
     "output_type": "stream",
     "text": [
      "각 분류항목과 기대항목 간에는 관련성이 있다!!\n"
     ]
    }
   ],
   "source": [
    "result = stats.chi2_contingency(observed=table)\n",
    "p_value = result[1]\n",
    "if p_value > 0.5 :\n",
    "    print('각 분류항목과 기대항목(output) 간에는 관련성이 없다!')\n",
    "else:\n",
    "    print('각 분류항목과 기대항목 간에는 관련성이 있다!!')"
   ]
  },
  {
   "cell_type": "code",
   "execution_count": null,
   "id": "06ebec16-ef71-4579-9979-bb30a0ad2a80",
   "metadata": {},
   "outputs": [],
   "source": []
  },
  {
   "cell_type": "code",
   "execution_count": null,
   "id": "fd69e87e-a150-4cea-a5fb-da6bdc7298bc",
   "metadata": {},
   "outputs": [],
   "source": []
  }
 ],
 "metadata": {
  "kernelspec": {
   "display_name": "Python 3 (ipykernel)",
   "language": "python",
   "name": "python3"
  },
  "language_info": {
   "codemirror_mode": {
    "name": "ipython",
    "version": 3
   },
   "file_extension": ".py",
   "mimetype": "text/x-python",
   "name": "python",
   "nbconvert_exporter": "python",
   "pygments_lexer": "ipython3",
   "version": "3.11.8"
  }
 },
 "nbformat": 4,
 "nbformat_minor": 5
}
