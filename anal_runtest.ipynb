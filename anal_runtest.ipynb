{
 "cells": [
  {
   "cell_type": "markdown",
   "id": "f1d32f28-ea51-41f5-84c1-26780945f498",
   "metadata": {},
   "source": [
    "### 연관규칙분석\n",
    "#### 효율적인 상품의 진열이나 패키지 상품개발, 교차판매전략, 기획상품의 결정 등 실제 고객의 데이터를 분석하는데 많이 사용되고 있는 알고리즘이다.\n",
    "#### 기업의 데이터베이스에서 상품구매, 서비스 등 일련의 거래 또는 사건들 간의 규칙을 발견하기 위해 사용되며 서로 다른 두 아이템 집합이 얼마나 빈번하게 발생하였는지를 관찰한다.\n",
    "#### 세부적으로는 장바구니분석과 서열분석이 있다.\n",
    "#### - 장바구니분석 : 장바구니에 무엇이 같이 들어갈 것인지를 분석한다.\n",
    "#### - 서열분석 : A를 산 다음에 B를 살 것이다."
   ]
  },
  {
   "cell_type": "markdown",
   "id": "af4f57f0-150d-48a5-b137-0fc2c33bee4c",
   "metadata": {},
   "source": [
    "### 연관규칙분석에 사용되는 척도\n",
    "#### 지지도 : 전체 거래 중 항목 a와 b를 동시에 포함하는 거래의 비율로 정의 = a와 b가 동시에 포함된 거래수/전체 거래수\n",
    "#### 신뢰도 : 항목 a를 포함한 거래 중에서 항목 a와 b가 같이 포함될 확률로 연관성의 정도 파악 가능 = a,b가 동시에 포함된 거래수 / a를 포함하는 거래수\n",
    "#### 항상도 : a가 구매되지 않았을 때 품목 b의 구매확률에 비해 a가 구해되었을 때 품목 b의 구매확률의 증가비, 연관규칙 a-->b는 품목 a와 품목 b의 구매가 서로 관련이 없는 경우에는 향상도가 1된 = a와b가 동시에 포함된 거래수 / a를 포함하는 거래수*b를 포함하는 거래수"
   ]
  },
  {
   "cell_type": "markdown",
   "id": "da294159-217b-4809-b757-e3a0a52deb8f",
   "metadata": {},
   "source": [
    "### Apriori알고리즘\n",
    "#### 가능한 모든 경우의 수를 탐색하여 지지도, 신뢰도, 향상도가 높은 규칙들을 찾아내는 방식이 가장 이상적이지만 아이템수가 증가할 수록 계산에 소요되는 시간이 기하급수적으로 증가하는 문제가 있다.\n",
    "#### 아이템이 n개일 때 탐색해야 할 모든 경우의 수 : n*(n-1) , 이 때문에 빈발집합만을 고래서 연관규칙을 생성하는 Apriori algorithm이 제안되었다. 최소지지도보다 큰 지지도 값을 갖는 품목의 지밥을 빈발항목집단(frequent item set)이라고 한다.\n",
    "#### 계산방법 : Apriori 알고리즘은 모든 품목집합에 대한 지지도를 전부 계산한 것이 아니라, 최소 지지도 이상의 빈발항목집합을 찾은 후 그것들에 대해서만 연관규칙을 계산한다."
   ]
  },
  {
   "cell_type": "code",
   "execution_count": 3,
   "id": "6f8b82e3-7d9e-486f-88af-ac17a27b627f",
   "metadata": {},
   "outputs": [],
   "source": [
    "import pandas as pd\n",
    "from mlxtend.preprocessing import TransactionEncoder"
   ]
  },
  {
   "cell_type": "code",
   "execution_count": 7,
   "id": "1c033818-fa69-4332-855b-1a8f2af1be35",
   "metadata": {},
   "outputs": [
    {
     "name": "stdout",
     "output_type": "stream",
     "text": [
      "['apple', 'bananas', 'beer', 'chicken', 'milk', 'rice']\n"
     ]
    },
    {
     "data": {
      "text/plain": [
       "array([[ True, False,  True,  True, False,  True],\n",
       "       [ True, False,  True, False, False,  True],\n",
       "       [ True, False,  True, False, False, False],\n",
       "       [ True,  True, False, False, False, False],\n",
       "       [False, False,  True,  True,  True,  True],\n",
       "       [False, False,  True, False,  True,  True],\n",
       "       [False, False,  True, False,  True, False],\n",
       "       [ True,  True, False, False, False, False]])"
      ]
     },
     "execution_count": 7,
     "metadata": {},
     "output_type": "execute_result"
    }
   ],
   "source": [
    "dataset = [['apple','beer','rice','chicken'],\n",
    "           ['apple','beer','rice'],\n",
    "           ['apple','beer'],\n",
    "           ['apple','bananas'],\n",
    "           ['milk','beer','rice','chicken'],\n",
    "           ['milk','beer','rice'],\n",
    "           ['milk','beer'],\n",
    "           ['apple','bananas']]\n",
    "te = TransactionEncoder()\n",
    "te_ary = te.fit_transform(dataset)\n",
    "print(te.columns_)\n",
    "'''\n",
    "트랜잭션 함수는 원본 데이터의 unique값을 컬럼으로 지정하고 이를 True(구매) or False(비구매)로 변환하는 함수이다.\n",
    "이를 다시 데이터프레임으로 바꾸어 관리하고 연관규칙분석을 실행해본다.\n",
    "'''\n",
    "te_ary\n"
   ]
  },
  {
   "cell_type": "code",
   "execution_count": 8,
   "id": "27beb6b5-36d9-4515-9004-f0ff3f733058",
   "metadata": {},
   "outputs": [
    {
     "data": {
      "text/html": [
       "<div>\n",
       "<style scoped>\n",
       "    .dataframe tbody tr th:only-of-type {\n",
       "        vertical-align: middle;\n",
       "    }\n",
       "\n",
       "    .dataframe tbody tr th {\n",
       "        vertical-align: top;\n",
       "    }\n",
       "\n",
       "    .dataframe thead th {\n",
       "        text-align: right;\n",
       "    }\n",
       "</style>\n",
       "<table border=\"1\" class=\"dataframe\">\n",
       "  <thead>\n",
       "    <tr style=\"text-align: right;\">\n",
       "      <th></th>\n",
       "      <th>apple</th>\n",
       "      <th>bananas</th>\n",
       "      <th>beer</th>\n",
       "      <th>chicken</th>\n",
       "      <th>milk</th>\n",
       "      <th>rice</th>\n",
       "    </tr>\n",
       "  </thead>\n",
       "  <tbody>\n",
       "    <tr>\n",
       "      <th>0</th>\n",
       "      <td>True</td>\n",
       "      <td>False</td>\n",
       "      <td>True</td>\n",
       "      <td>True</td>\n",
       "      <td>False</td>\n",
       "      <td>True</td>\n",
       "    </tr>\n",
       "    <tr>\n",
       "      <th>1</th>\n",
       "      <td>True</td>\n",
       "      <td>False</td>\n",
       "      <td>True</td>\n",
       "      <td>False</td>\n",
       "      <td>False</td>\n",
       "      <td>True</td>\n",
       "    </tr>\n",
       "    <tr>\n",
       "      <th>2</th>\n",
       "      <td>True</td>\n",
       "      <td>False</td>\n",
       "      <td>True</td>\n",
       "      <td>False</td>\n",
       "      <td>False</td>\n",
       "      <td>False</td>\n",
       "    </tr>\n",
       "    <tr>\n",
       "      <th>3</th>\n",
       "      <td>True</td>\n",
       "      <td>True</td>\n",
       "      <td>False</td>\n",
       "      <td>False</td>\n",
       "      <td>False</td>\n",
       "      <td>False</td>\n",
       "    </tr>\n",
       "    <tr>\n",
       "      <th>4</th>\n",
       "      <td>False</td>\n",
       "      <td>False</td>\n",
       "      <td>True</td>\n",
       "      <td>True</td>\n",
       "      <td>True</td>\n",
       "      <td>True</td>\n",
       "    </tr>\n",
       "    <tr>\n",
       "      <th>5</th>\n",
       "      <td>False</td>\n",
       "      <td>False</td>\n",
       "      <td>True</td>\n",
       "      <td>False</td>\n",
       "      <td>True</td>\n",
       "      <td>True</td>\n",
       "    </tr>\n",
       "    <tr>\n",
       "      <th>6</th>\n",
       "      <td>False</td>\n",
       "      <td>False</td>\n",
       "      <td>True</td>\n",
       "      <td>False</td>\n",
       "      <td>True</td>\n",
       "      <td>False</td>\n",
       "    </tr>\n",
       "    <tr>\n",
       "      <th>7</th>\n",
       "      <td>True</td>\n",
       "      <td>True</td>\n",
       "      <td>False</td>\n",
       "      <td>False</td>\n",
       "      <td>False</td>\n",
       "      <td>False</td>\n",
       "    </tr>\n",
       "  </tbody>\n",
       "</table>\n",
       "</div>"
      ],
      "text/plain": [
       "   apple  bananas   beer  chicken   milk   rice\n",
       "0   True    False   True     True  False   True\n",
       "1   True    False   True    False  False   True\n",
       "2   True    False   True    False  False  False\n",
       "3   True     True  False    False  False  False\n",
       "4  False    False   True     True   True   True\n",
       "5  False    False   True    False   True   True\n",
       "6  False    False   True    False   True  False\n",
       "7   True     True  False    False  False  False"
      ]
     },
     "execution_count": 8,
     "metadata": {},
     "output_type": "execute_result"
    }
   ],
   "source": [
    "df = pd.DataFrame(te_ary, columns = te.columns_)\n",
    "df"
   ]
  },
  {
   "cell_type": "code",
   "execution_count": 9,
   "id": "2d18584a-9ba6-4ecd-9bd3-6415bfeb7771",
   "metadata": {},
   "outputs": [
    {
     "data": {
      "text/html": [
       "<div>\n",
       "<style scoped>\n",
       "    .dataframe tbody tr th:only-of-type {\n",
       "        vertical-align: middle;\n",
       "    }\n",
       "\n",
       "    .dataframe tbody tr th {\n",
       "        vertical-align: top;\n",
       "    }\n",
       "\n",
       "    .dataframe thead th {\n",
       "        text-align: right;\n",
       "    }\n",
       "</style>\n",
       "<table border=\"1\" class=\"dataframe\">\n",
       "  <thead>\n",
       "    <tr style=\"text-align: right;\">\n",
       "      <th></th>\n",
       "      <th>support</th>\n",
       "      <th>itemsets</th>\n",
       "    </tr>\n",
       "  </thead>\n",
       "  <tbody>\n",
       "    <tr>\n",
       "      <th>0</th>\n",
       "      <td>0.625</td>\n",
       "      <td>(apple)</td>\n",
       "    </tr>\n",
       "    <tr>\n",
       "      <th>1</th>\n",
       "      <td>0.750</td>\n",
       "      <td>(beer)</td>\n",
       "    </tr>\n",
       "  </tbody>\n",
       "</table>\n",
       "</div>"
      ],
      "text/plain": [
       "   support itemsets\n",
       "0    0.625  (apple)\n",
       "1    0.750   (beer)"
      ]
     },
     "execution_count": 9,
     "metadata": {},
     "output_type": "execute_result"
    }
   ],
   "source": [
    "## 지지도 60% 이상인 품목만 추출\n",
    "from mlxtend.frequent_patterns import apriori\n",
    "apriori(df, min_support=0.6, use_colnames=True)"
   ]
  },
  {
   "cell_type": "code",
   "execution_count": 11,
   "id": "c6483303-d6fb-43b3-a74c-296238d0ca9e",
   "metadata": {},
   "outputs": [
    {
     "data": {
      "text/html": [
       "<div>\n",
       "<style scoped>\n",
       "    .dataframe tbody tr th:only-of-type {\n",
       "        vertical-align: middle;\n",
       "    }\n",
       "\n",
       "    .dataframe tbody tr th {\n",
       "        vertical-align: top;\n",
       "    }\n",
       "\n",
       "    .dataframe thead th {\n",
       "        text-align: right;\n",
       "    }\n",
       "</style>\n",
       "<table border=\"1\" class=\"dataframe\">\n",
       "  <thead>\n",
       "    <tr style=\"text-align: right;\">\n",
       "      <th></th>\n",
       "      <th>support</th>\n",
       "      <th>itemsets</th>\n",
       "      <th>length</th>\n",
       "    </tr>\n",
       "  </thead>\n",
       "  <tbody>\n",
       "    <tr>\n",
       "      <th>0</th>\n",
       "      <td>0.625</td>\n",
       "      <td>(apple)</td>\n",
       "      <td>1</td>\n",
       "    </tr>\n",
       "    <tr>\n",
       "      <th>1</th>\n",
       "      <td>0.750</td>\n",
       "      <td>(beer)</td>\n",
       "      <td>1</td>\n",
       "    </tr>\n",
       "    <tr>\n",
       "      <th>2</th>\n",
       "      <td>0.375</td>\n",
       "      <td>(milk)</td>\n",
       "      <td>1</td>\n",
       "    </tr>\n",
       "    <tr>\n",
       "      <th>3</th>\n",
       "      <td>0.500</td>\n",
       "      <td>(rice)</td>\n",
       "      <td>1</td>\n",
       "    </tr>\n",
       "    <tr>\n",
       "      <th>4</th>\n",
       "      <td>0.375</td>\n",
       "      <td>(apple, beer)</td>\n",
       "      <td>2</td>\n",
       "    </tr>\n",
       "    <tr>\n",
       "      <th>5</th>\n",
       "      <td>0.375</td>\n",
       "      <td>(milk, beer)</td>\n",
       "      <td>2</td>\n",
       "    </tr>\n",
       "    <tr>\n",
       "      <th>6</th>\n",
       "      <td>0.500</td>\n",
       "      <td>(rice, beer)</td>\n",
       "      <td>2</td>\n",
       "    </tr>\n",
       "  </tbody>\n",
       "</table>\n",
       "</div>"
      ],
      "text/plain": [
       "   support       itemsets  length\n",
       "0    0.625        (apple)       1\n",
       "1    0.750         (beer)       1\n",
       "2    0.375         (milk)       1\n",
       "3    0.500         (rice)       1\n",
       "4    0.375  (apple, beer)       2\n",
       "5    0.375   (milk, beer)       2\n",
       "6    0.500   (rice, beer)       2"
      ]
     },
     "execution_count": 11,
     "metadata": {},
     "output_type": "execute_result"
    }
   ],
   "source": [
    "## 규칙의 길이를 추출하는 방법\n",
    "frequent_itemsets = apriori(df, min_support=0.3, use_colnames=True)\n",
    "frequent_itemsets['length'] = frequent_itemsets['itemsets'].apply(lambda x: len(x))\n",
    "frequent_itemsets"
   ]
  },
  {
   "cell_type": "markdown",
   "id": "0da55119-4dcb-41a4-be66-0a5329b577dd",
   "metadata": {},
   "source": [
    "### 예제2\n",
    "#### 이제 groceries 데이터셋을 연관규칙분석을 실행해보자. 데이터는 문자열로 구매내역이 저장되어 있는 데이터이므로 트랜잭션 형태로 만들어 주기 위해 전처리가 필요하다"
   ]
  },
  {
   "cell_type": "code",
   "execution_count": null,
   "id": "ec42de16-4136-496c-91ec-7433dfebdd32",
   "metadata": {},
   "outputs": [],
   "source": [
    "import pandas as pd\n",
    "f_path =\n",
    "df = pd.read_csv(f_path)"
   ]
  },
  {
   "cell_type": "code",
   "execution_count": null,
   "id": "36dc9da6-1cfb-402f-84a5-bb1b9ab36315",
   "metadata": {},
   "outputs": [],
   "source": [
    "# 데이터프레임 형태를 array형태로 변환\n",
    "df_split = df.iloc[:,0].str.split(',', expand=True)\n",
    "df_split.values # 데이터프레임 각 행의 문자열을 리스트로 묶어서 array형태로 취합"
   ]
  },
  {
   "cell_type": "code",
   "execution_count": null,
   "id": "bfb12f54-222e-447c-9723-1adc2deca28d",
   "metadata": {},
   "outputs": [],
   "source": [
    "# array형태를 list형태로 변환\n",
    "df_split_ary = df_split.values\n",
    "groceries = []\n",
    "for i in range(len(df_split_ary)):\n",
    "    temp = list(filter(None, df_split_ary[i]))\n",
    "    groceries.append(temp)\n",
    "groceries"
   ]
  },
  {
   "cell_type": "code",
   "execution_count": null,
   "id": "0da67daa-70ac-4dea-9228-50da0ba560de",
   "metadata": {},
   "outputs": [],
   "source": [
    "# 트랜잭션 형태의 데이터를 만들기 : 고유값을 컬럼으로 True False형태의 데이터 프레임으로 변환\n",
    "from mlxtend.preprocessing import TransactionEncoder\n",
    "import pandas as pd\n",
    "te = TransactionEncoder()\n",
    "groceries_tr = te.fit(groceries).transform(groceries)\n",
    "groceries_tr = pd.DataFrame(groceries_tr, columns=te.columns_)\n",
    "groceries_tr"
   ]
  },
  {
   "cell_type": "code",
   "execution_count": null,
   "id": "bd3f808c-f76a-4459-be34-b84aaaa877e6",
   "metadata": {},
   "outputs": [],
   "source": [
    "# 연관규칙분석 : 지지도가 5%이상인 빈번항목집합을 탐색\n",
    "from mlxtend.frequent_patterns import apriori\n",
    "groceries_ap = apriori(groceries_tr, min_support=0.01, use_colnames = True)\n",
    "groceries_ap"
   ]
  },
  {
   "cell_type": "code",
   "execution_count": null,
   "id": "306f2c7a-b0c8-495f-9fc9-1bba5c04c2b2",
   "metadata": {},
   "outputs": [],
   "source": [
    "# 연관규칙분석 : 신뢰도가 0.3이상인 빈번항목집합 탐색\n",
    "from mlxtend.frequent_patterns import association_rules\n",
    "association_rules(groceries_ap, metric='confidence', min_threshold=0.3)"
   ]
  },
  {
   "cell_type": "code",
   "execution_count": null,
   "id": "3faec993-df29-4c2b-a364-27f496c091be",
   "metadata": {},
   "outputs": [],
   "source": [
    "# 연관규칙분석 : 품목이 2개이상, 신뢰도가 .4이상, 향송도가 3이상인 규칙 추출\n",
    "'''\n",
    "이와 같이 장바구니 데이터에서 여러 연관규칙을 설정하여 원하는 규칙을 찾아내고,\n",
    "이 규칙을 통해 효율적인 상품의 진열이나 패키지 상품개발, 교차판매 전략 등을 세워 판매 증진에 사용할 수 있다.\n",
    "'''\n",
    "rules = association_rules(groceries_ap, metric='lift', min_threshold=3)\n",
    "rules[\"antecedent_len\"] = rules[\"antecedents\"].apply(lambda x: len(x))\n",
    "rules[(rules['antecedent_len']>=2)&(rules['confidence']>0.4)&(rules['lift']>=3)]"
   ]
  },
  {
   "cell_type": "code",
   "execution_count": null,
   "id": "4a1b43d1-3556-4a2f-90f1-0341ba689943",
   "metadata": {},
   "outputs": [],
   "source": []
  },
  {
   "cell_type": "code",
   "execution_count": null,
   "id": "da57375b-37a4-4169-afaf-fa6fb77f2614",
   "metadata": {},
   "outputs": [],
   "source": []
  },
  {
   "cell_type": "code",
   "execution_count": null,
   "id": "c6a1855f-bc2a-4b73-86b7-8527fc25de24",
   "metadata": {},
   "outputs": [],
   "source": []
  },
  {
   "cell_type": "code",
   "execution_count": null,
   "id": "8a4b7ab9-62b6-4ecb-bfe5-ab2ca7474526",
   "metadata": {},
   "outputs": [],
   "source": []
  }
 ],
 "metadata": {
  "kernelspec": {
   "display_name": "Python 3 (ipykernel)",
   "language": "python",
   "name": "python3"
  },
  "language_info": {
   "codemirror_mode": {
    "name": "ipython",
    "version": 3
   },
   "file_extension": ".py",
   "mimetype": "text/x-python",
   "name": "python",
   "nbconvert_exporter": "python",
   "pygments_lexer": "ipython3",
   "version": "3.11.8"
  }
 },
 "nbformat": 4,
 "nbformat_minor": 5
}
